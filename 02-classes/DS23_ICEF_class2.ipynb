{
  "nbformat": 4,
  "nbformat_minor": 0,
  "metadata": {
    "colab": {
      "provenance": [],
      "authorship_tag": "ABX9TyMveJ9ofnRgBRElobvm9uGX",
      "include_colab_link": true
    },
    "kernelspec": {
      "name": "python3",
      "display_name": "Python 3"
    },
    "language_info": {
      "name": "python"
    }
  },
  "cells": [
    {
      "cell_type": "markdown",
      "metadata": {
        "id": "view-in-github",
        "colab_type": "text"
      },
      "source": [
        "<a href=\"https://colab.research.google.com/github/limph0nimph/Analysis-of-SGD-of-Deep-Neural-Networks-Under-Heavy-Tailed-Gradient-Noise/blob/main/02-classes/DS23_ICEF_class2.ipynb\" target=\"_parent\"><img src=\"https://colab.research.google.com/assets/colab-badge.svg\" alt=\"Open In Colab\"/></a>"
      ]
    },
    {
      "cell_type": "markdown",
      "source": [
        "# Class 2 Today we continue exploring pandas and matplotlib libraries\n",
        "\n",
        "\n"
      ],
      "metadata": {
        "id": "eNKTh06e82v2"
      }
    },
    {
      "cell_type": "markdown",
      "source": [
        "# Let us recall data loading process\n",
        "Usually tabular data is stored in files. Such data sets are commonly called datasets. Files with a dataset can have a different format. Pandas supports read and write operations for CSV, Excel 2007+, SQL, HTML, JSON, etc.\n",
        "\n",
        "A few examples of how to get a dataset from files of different formats:\n",
        "\n",
        "\n",
        "\n",
        "*   **CSV** The read_csv() function is used. The file argument is a string containing the path to the dataset file. To write data from the Data Frame to a CSV file, the to_csv(file) method is used.\n",
        "\n",
        "*  **Excel** The read_excel() function is used. To write data from the Data Frame to an Excel file, the to_excel().\n",
        "\n",
        "*  **JSON** method is used. The read_json() function is used. To write data from the Data Frame to JSON, the to_json() method is used."
      ],
      "metadata": {
        "id": "T-jV8ZF0_637"
      }
    },
    {
      "cell_type": "markdown",
      "source": [],
      "metadata": {
        "id": "NXaV6QrF_373"
      }
    },
    {
      "cell_type": "markdown",
      "source": [
        "How to download data from github page to colab using magic command from linux paradigm.\n",
        "\n",
        "```\n",
        "!wget -c https://raw.githubusercontent.com/Shuaynat/DSE-23-24/main/01-classes/flats_moscow.csv\n",
        "```\n",
        "\n",
        "\n",
        "\n",
        "---\n",
        "\n"
      ],
      "metadata": {
        "id": "NIg2JvAowHL_"
      }
    },
    {
      "cell_type": "code",
      "source": [
        "!wget https://raw.githubusercontent.com/Shuaynat/DSE-23-24/main/01-classes/flats_moscow.csv\n",
        "!wget https://raw.githubusercontent.com/Shuaynat/DSE-23-24/main/02-classes/googleplaystore.csv\n",
        "!wget https://raw.githubusercontent.com/Shuaynat/DSE-23-24/main/02-classes/googleplaystore_user_reviews.csv\n"
      ],
      "metadata": {
        "colab": {
          "base_uri": "https://localhost:8080/"
        },
        "id": "f7KoXEkUwByc",
        "outputId": "e1729d4e-2a8d-461f-e610-fc3e76d8cd75"
      },
      "execution_count": null,
      "outputs": [
        {
          "output_type": "stream",
          "name": "stdout",
          "text": [
            "--2023-09-08 16:13:53--  https://raw.githubusercontent.com/Shuaynat/DSE-23-24/main/01-classes/flats_moscow.csv\n",
            "Resolving raw.githubusercontent.com (raw.githubusercontent.com)... 185.199.108.133, 185.199.109.133, 185.199.110.133, ...\n",
            "Connecting to raw.githubusercontent.com (raw.githubusercontent.com)|185.199.108.133|:443... connected.\n",
            "HTTP request sent, awaiting response... 200 OK\n",
            "Length: 66976 (65K) [text/plain]\n",
            "Saving to: ‘flats_moscow.csv.1’\n",
            "\n",
            "flats_moscow.csv.1  100%[===================>]  65.41K  --.-KB/s    in 0.001s  \n",
            "\n",
            "2023-09-08 16:13:53 (56.1 MB/s) - ‘flats_moscow.csv.1’ saved [66976/66976]\n",
            "\n",
            "--2023-09-08 16:13:53--  https://raw.githubusercontent.com/Shuaynat/DSE-23-24/main/02-classes/googleplaystore.csv\n",
            "Resolving raw.githubusercontent.com (raw.githubusercontent.com)... 185.199.108.133, 185.199.109.133, 185.199.110.133, ...\n",
            "Connecting to raw.githubusercontent.com (raw.githubusercontent.com)|185.199.108.133|:443... connected.\n",
            "HTTP request sent, awaiting response... 200 OK\n",
            "Length: 1360155 (1.3M) [text/plain]\n",
            "Saving to: ‘googleplaystore.csv’\n",
            "\n",
            "googleplaystore.csv 100%[===================>]   1.30M  --.-KB/s    in 0.009s  \n",
            "\n",
            "2023-09-08 16:13:53 (143 MB/s) - ‘googleplaystore.csv’ saved [1360155/1360155]\n",
            "\n",
            "--2023-09-08 16:13:53--  https://raw.githubusercontent.com/Shuaynat/DSE-23-24/main/02-classes/googleplaystore_user_reviews.csv\n",
            "Resolving raw.githubusercontent.com (raw.githubusercontent.com)... 185.199.109.133, 185.199.111.133, 185.199.108.133, ...\n",
            "Connecting to raw.githubusercontent.com (raw.githubusercontent.com)|185.199.109.133|:443... connected.\n",
            "HTTP request sent, awaiting response... 200 OK\n",
            "Length: 7669276 (7.3M) [text/plain]\n",
            "Saving to: ‘googleplaystore_user_reviews.csv’\n",
            "\n",
            "googleplaystore_use 100%[===================>]   7.31M  --.-KB/s    in 0.02s   \n",
            "\n",
            "2023-09-08 16:13:54 (326 MB/s) - ‘googleplaystore_user_reviews.csv’ saved [7669276/7669276]\n",
            "\n"
          ]
        }
      ]
    },
    {
      "cell_type": "markdown",
      "source": [
        "Let us know where in google colab we are situated"
      ],
      "metadata": {
        "id": "PPTznF1czC5R"
      }
    },
    {
      "cell_type": "code",
      "source": [
        "import os\n",
        "os.getcwd()"
      ],
      "metadata": {
        "colab": {
          "base_uri": "https://localhost:8080/",
          "height": 35
        },
        "id": "nMrIGbBKwWWu",
        "outputId": "9c1e3c57-90f4-43a4-8a25-3369a54c99db"
      },
      "execution_count": null,
      "outputs": [
        {
          "output_type": "execute_result",
          "data": {
            "text/plain": [
              "'/content'"
            ],
            "application/vnd.google.colaboratory.intrinsic+json": {
              "type": "string"
            }
          },
          "metadata": {},
          "execution_count": 2
        }
      ]
    },
    {
      "cell_type": "code",
      "source": [
        "!ls"
      ],
      "metadata": {
        "colab": {
          "base_uri": "https://localhost:8080/"
        },
        "id": "0WsHMecW0P-V",
        "outputId": "a9918e61-831b-4fd0-c18f-90c6c9a9a830"
      },
      "execution_count": null,
      "outputs": [
        {
          "output_type": "stream",
          "name": "stdout",
          "text": [
            "flats_moscow.csv  sample_data\n"
          ]
        }
      ]
    },
    {
      "cell_type": "code",
      "source": [
        "import pandas as pd\n",
        "df = pd.read_csv(\"flats_moscow.csv\")"
      ],
      "metadata": {
        "id": "jWG-Dcp_xMfw"
      },
      "execution_count": null,
      "outputs": []
    },
    {
      "cell_type": "code",
      "source": [
        "df.index"
      ],
      "metadata": {
        "colab": {
          "base_uri": "https://localhost:8080/"
        },
        "id": "w648pWEsKlb7",
        "outputId": "4deee524-77eb-4701-bd22-9badf2d8c534"
      },
      "execution_count": null,
      "outputs": [
        {
          "output_type": "execute_result",
          "data": {
            "text/plain": [
              "RangeIndex(start=0, stop=2040, step=1)"
            ]
          },
          "metadata": {},
          "execution_count": 5
        }
      ]
    },
    {
      "cell_type": "code",
      "source": [
        "df.head()"
      ],
      "metadata": {
        "colab": {
          "base_uri": "https://localhost:8080/",
          "height": 206
        },
        "id": "G19uiW-tKqRQ",
        "outputId": "29004973-7661-4550-9d7c-bc0e70c53235"
      },
      "execution_count": null,
      "outputs": [
        {
          "output_type": "execute_result",
          "data": {
            "text/plain": [
              "   Unnamed: 0  price  totsp  livesp  kitsp  dist  metrdist  walk  brick  \\\n",
              "0           1     81     58      40    6.0  12.5         7     1      1   \n",
              "1           2     75     44      28    6.0  13.5         7     1      0   \n",
              "2           3    128     70      42    6.0  14.5         3     1      1   \n",
              "3           4     95     61      37    6.0  13.5         7     1      0   \n",
              "4           5    330    104      60   11.0  10.5         7     0      1   \n",
              "\n",
              "   floor  code  \n",
              "0      1     3  \n",
              "1      1     6  \n",
              "2      1     3  \n",
              "3      1     1  \n",
              "4      1     3  "
            ],
            "text/html": [
              "\n",
              "  <div id=\"df-44f571f0-8d81-46e3-a29d-46e835681c16\" class=\"colab-df-container\">\n",
              "    <div>\n",
              "<style scoped>\n",
              "    .dataframe tbody tr th:only-of-type {\n",
              "        vertical-align: middle;\n",
              "    }\n",
              "\n",
              "    .dataframe tbody tr th {\n",
              "        vertical-align: top;\n",
              "    }\n",
              "\n",
              "    .dataframe thead th {\n",
              "        text-align: right;\n",
              "    }\n",
              "</style>\n",
              "<table border=\"1\" class=\"dataframe\">\n",
              "  <thead>\n",
              "    <tr style=\"text-align: right;\">\n",
              "      <th></th>\n",
              "      <th>Unnamed: 0</th>\n",
              "      <th>price</th>\n",
              "      <th>totsp</th>\n",
              "      <th>livesp</th>\n",
              "      <th>kitsp</th>\n",
              "      <th>dist</th>\n",
              "      <th>metrdist</th>\n",
              "      <th>walk</th>\n",
              "      <th>brick</th>\n",
              "      <th>floor</th>\n",
              "      <th>code</th>\n",
              "    </tr>\n",
              "  </thead>\n",
              "  <tbody>\n",
              "    <tr>\n",
              "      <th>0</th>\n",
              "      <td>1</td>\n",
              "      <td>81</td>\n",
              "      <td>58</td>\n",
              "      <td>40</td>\n",
              "      <td>6.0</td>\n",
              "      <td>12.5</td>\n",
              "      <td>7</td>\n",
              "      <td>1</td>\n",
              "      <td>1</td>\n",
              "      <td>1</td>\n",
              "      <td>3</td>\n",
              "    </tr>\n",
              "    <tr>\n",
              "      <th>1</th>\n",
              "      <td>2</td>\n",
              "      <td>75</td>\n",
              "      <td>44</td>\n",
              "      <td>28</td>\n",
              "      <td>6.0</td>\n",
              "      <td>13.5</td>\n",
              "      <td>7</td>\n",
              "      <td>1</td>\n",
              "      <td>0</td>\n",
              "      <td>1</td>\n",
              "      <td>6</td>\n",
              "    </tr>\n",
              "    <tr>\n",
              "      <th>2</th>\n",
              "      <td>3</td>\n",
              "      <td>128</td>\n",
              "      <td>70</td>\n",
              "      <td>42</td>\n",
              "      <td>6.0</td>\n",
              "      <td>14.5</td>\n",
              "      <td>3</td>\n",
              "      <td>1</td>\n",
              "      <td>1</td>\n",
              "      <td>1</td>\n",
              "      <td>3</td>\n",
              "    </tr>\n",
              "    <tr>\n",
              "      <th>3</th>\n",
              "      <td>4</td>\n",
              "      <td>95</td>\n",
              "      <td>61</td>\n",
              "      <td>37</td>\n",
              "      <td>6.0</td>\n",
              "      <td>13.5</td>\n",
              "      <td>7</td>\n",
              "      <td>1</td>\n",
              "      <td>0</td>\n",
              "      <td>1</td>\n",
              "      <td>1</td>\n",
              "    </tr>\n",
              "    <tr>\n",
              "      <th>4</th>\n",
              "      <td>5</td>\n",
              "      <td>330</td>\n",
              "      <td>104</td>\n",
              "      <td>60</td>\n",
              "      <td>11.0</td>\n",
              "      <td>10.5</td>\n",
              "      <td>7</td>\n",
              "      <td>0</td>\n",
              "      <td>1</td>\n",
              "      <td>1</td>\n",
              "      <td>3</td>\n",
              "    </tr>\n",
              "  </tbody>\n",
              "</table>\n",
              "</div>\n",
              "    <div class=\"colab-df-buttons\">\n",
              "\n",
              "  <div class=\"colab-df-container\">\n",
              "    <button class=\"colab-df-convert\" onclick=\"convertToInteractive('df-44f571f0-8d81-46e3-a29d-46e835681c16')\"\n",
              "            title=\"Convert this dataframe to an interactive table.\"\n",
              "            style=\"display:none;\">\n",
              "\n",
              "  <svg xmlns=\"http://www.w3.org/2000/svg\" height=\"24px\" viewBox=\"0 -960 960 960\">\n",
              "    <path d=\"M120-120v-720h720v720H120Zm60-500h600v-160H180v160Zm220 220h160v-160H400v160Zm0 220h160v-160H400v160ZM180-400h160v-160H180v160Zm440 0h160v-160H620v160ZM180-180h160v-160H180v160Zm440 0h160v-160H620v160Z\"/>\n",
              "  </svg>\n",
              "    </button>\n",
              "\n",
              "  <style>\n",
              "    .colab-df-container {\n",
              "      display:flex;\n",
              "      gap: 12px;\n",
              "    }\n",
              "\n",
              "    .colab-df-convert {\n",
              "      background-color: #E8F0FE;\n",
              "      border: none;\n",
              "      border-radius: 50%;\n",
              "      cursor: pointer;\n",
              "      display: none;\n",
              "      fill: #1967D2;\n",
              "      height: 32px;\n",
              "      padding: 0 0 0 0;\n",
              "      width: 32px;\n",
              "    }\n",
              "\n",
              "    .colab-df-convert:hover {\n",
              "      background-color: #E2EBFA;\n",
              "      box-shadow: 0px 1px 2px rgba(60, 64, 67, 0.3), 0px 1px 3px 1px rgba(60, 64, 67, 0.15);\n",
              "      fill: #174EA6;\n",
              "    }\n",
              "\n",
              "    .colab-df-buttons div {\n",
              "      margin-bottom: 4px;\n",
              "    }\n",
              "\n",
              "    [theme=dark] .colab-df-convert {\n",
              "      background-color: #3B4455;\n",
              "      fill: #D2E3FC;\n",
              "    }\n",
              "\n",
              "    [theme=dark] .colab-df-convert:hover {\n",
              "      background-color: #434B5C;\n",
              "      box-shadow: 0px 1px 3px 1px rgba(0, 0, 0, 0.15);\n",
              "      filter: drop-shadow(0px 1px 2px rgba(0, 0, 0, 0.3));\n",
              "      fill: #FFFFFF;\n",
              "    }\n",
              "  </style>\n",
              "\n",
              "    <script>\n",
              "      const buttonEl =\n",
              "        document.querySelector('#df-44f571f0-8d81-46e3-a29d-46e835681c16 button.colab-df-convert');\n",
              "      buttonEl.style.display =\n",
              "        google.colab.kernel.accessAllowed ? 'block' : 'none';\n",
              "\n",
              "      async function convertToInteractive(key) {\n",
              "        const element = document.querySelector('#df-44f571f0-8d81-46e3-a29d-46e835681c16');\n",
              "        const dataTable =\n",
              "          await google.colab.kernel.invokeFunction('convertToInteractive',\n",
              "                                                    [key], {});\n",
              "        if (!dataTable) return;\n",
              "\n",
              "        const docLinkHtml = 'Like what you see? Visit the ' +\n",
              "          '<a target=\"_blank\" href=https://colab.research.google.com/notebooks/data_table.ipynb>data table notebook</a>'\n",
              "          + ' to learn more about interactive tables.';\n",
              "        element.innerHTML = '';\n",
              "        dataTable['output_type'] = 'display_data';\n",
              "        await google.colab.output.renderOutput(dataTable, element);\n",
              "        const docLink = document.createElement('div');\n",
              "        docLink.innerHTML = docLinkHtml;\n",
              "        element.appendChild(docLink);\n",
              "      }\n",
              "    </script>\n",
              "  </div>\n",
              "\n",
              "\n",
              "<div id=\"df-cd60c310-b1d6-4d4e-91c7-db03bf298f8f\">\n",
              "  <button class=\"colab-df-quickchart\" onclick=\"quickchart('df-cd60c310-b1d6-4d4e-91c7-db03bf298f8f')\"\n",
              "            title=\"Suggest charts.\"\n",
              "            style=\"display:none;\">\n",
              "\n",
              "<svg xmlns=\"http://www.w3.org/2000/svg\" height=\"24px\"viewBox=\"0 0 24 24\"\n",
              "     width=\"24px\">\n",
              "    <g>\n",
              "        <path d=\"M19 3H5c-1.1 0-2 .9-2 2v14c0 1.1.9 2 2 2h14c1.1 0 2-.9 2-2V5c0-1.1-.9-2-2-2zM9 17H7v-7h2v7zm4 0h-2V7h2v10zm4 0h-2v-4h2v4z\"/>\n",
              "    </g>\n",
              "</svg>\n",
              "  </button>\n",
              "\n",
              "<style>\n",
              "  .colab-df-quickchart {\n",
              "      --bg-color: #E8F0FE;\n",
              "      --fill-color: #1967D2;\n",
              "      --hover-bg-color: #E2EBFA;\n",
              "      --hover-fill-color: #174EA6;\n",
              "      --disabled-fill-color: #AAA;\n",
              "      --disabled-bg-color: #DDD;\n",
              "  }\n",
              "\n",
              "  [theme=dark] .colab-df-quickchart {\n",
              "      --bg-color: #3B4455;\n",
              "      --fill-color: #D2E3FC;\n",
              "      --hover-bg-color: #434B5C;\n",
              "      --hover-fill-color: #FFFFFF;\n",
              "      --disabled-bg-color: #3B4455;\n",
              "      --disabled-fill-color: #666;\n",
              "  }\n",
              "\n",
              "  .colab-df-quickchart {\n",
              "    background-color: var(--bg-color);\n",
              "    border: none;\n",
              "    border-radius: 50%;\n",
              "    cursor: pointer;\n",
              "    display: none;\n",
              "    fill: var(--fill-color);\n",
              "    height: 32px;\n",
              "    padding: 0;\n",
              "    width: 32px;\n",
              "  }\n",
              "\n",
              "  .colab-df-quickchart:hover {\n",
              "    background-color: var(--hover-bg-color);\n",
              "    box-shadow: 0 1px 2px rgba(60, 64, 67, 0.3), 0 1px 3px 1px rgba(60, 64, 67, 0.15);\n",
              "    fill: var(--button-hover-fill-color);\n",
              "  }\n",
              "\n",
              "  .colab-df-quickchart-complete:disabled,\n",
              "  .colab-df-quickchart-complete:disabled:hover {\n",
              "    background-color: var(--disabled-bg-color);\n",
              "    fill: var(--disabled-fill-color);\n",
              "    box-shadow: none;\n",
              "  }\n",
              "\n",
              "  .colab-df-spinner {\n",
              "    border: 2px solid var(--fill-color);\n",
              "    border-color: transparent;\n",
              "    border-bottom-color: var(--fill-color);\n",
              "    animation:\n",
              "      spin 1s steps(1) infinite;\n",
              "  }\n",
              "\n",
              "  @keyframes spin {\n",
              "    0% {\n",
              "      border-color: transparent;\n",
              "      border-bottom-color: var(--fill-color);\n",
              "      border-left-color: var(--fill-color);\n",
              "    }\n",
              "    20% {\n",
              "      border-color: transparent;\n",
              "      border-left-color: var(--fill-color);\n",
              "      border-top-color: var(--fill-color);\n",
              "    }\n",
              "    30% {\n",
              "      border-color: transparent;\n",
              "      border-left-color: var(--fill-color);\n",
              "      border-top-color: var(--fill-color);\n",
              "      border-right-color: var(--fill-color);\n",
              "    }\n",
              "    40% {\n",
              "      border-color: transparent;\n",
              "      border-right-color: var(--fill-color);\n",
              "      border-top-color: var(--fill-color);\n",
              "    }\n",
              "    60% {\n",
              "      border-color: transparent;\n",
              "      border-right-color: var(--fill-color);\n",
              "    }\n",
              "    80% {\n",
              "      border-color: transparent;\n",
              "      border-right-color: var(--fill-color);\n",
              "      border-bottom-color: var(--fill-color);\n",
              "    }\n",
              "    90% {\n",
              "      border-color: transparent;\n",
              "      border-bottom-color: var(--fill-color);\n",
              "    }\n",
              "  }\n",
              "</style>\n",
              "\n",
              "  <script>\n",
              "    async function quickchart(key) {\n",
              "      const quickchartButtonEl =\n",
              "        document.querySelector('#' + key + ' button');\n",
              "      quickchartButtonEl.disabled = true;  // To prevent multiple clicks.\n",
              "      quickchartButtonEl.classList.add('colab-df-spinner');\n",
              "      try {\n",
              "        const charts = await google.colab.kernel.invokeFunction(\n",
              "            'suggestCharts', [key], {});\n",
              "      } catch (error) {\n",
              "        console.error('Error during call to suggestCharts:', error);\n",
              "      }\n",
              "      quickchartButtonEl.classList.remove('colab-df-spinner');\n",
              "      quickchartButtonEl.classList.add('colab-df-quickchart-complete');\n",
              "    }\n",
              "    (() => {\n",
              "      let quickchartButtonEl =\n",
              "        document.querySelector('#df-cd60c310-b1d6-4d4e-91c7-db03bf298f8f button');\n",
              "      quickchartButtonEl.style.display =\n",
              "        google.colab.kernel.accessAllowed ? 'block' : 'none';\n",
              "    })();\n",
              "  </script>\n",
              "</div>\n",
              "    </div>\n",
              "  </div>\n"
            ]
          },
          "metadata": {},
          "execution_count": 6
        }
      ]
    },
    {
      "cell_type": "code",
      "source": [
        "df.loc[0,\"price\"]"
      ],
      "metadata": {
        "colab": {
          "base_uri": "https://localhost:8080/"
        },
        "id": "Zb-mEQ6LLr2p",
        "outputId": "61060b80-535f-41c1-f71b-3e9e10bec645"
      },
      "execution_count": null,
      "outputs": [
        {
          "output_type": "execute_result",
          "data": {
            "text/plain": [
              "81"
            ]
          },
          "metadata": {},
          "execution_count": 7
        }
      ]
    },
    {
      "cell_type": "code",
      "source": [
        "df.iloc[0,\"price\"]"
      ],
      "metadata": {
        "colab": {
          "base_uri": "https://localhost:8080/",
          "height": 471
        },
        "id": "NK-Wzk_VMVQP",
        "outputId": "5f2c4251-ffad-4318-8dfb-6047a93aa608"
      },
      "execution_count": null,
      "outputs": [
        {
          "output_type": "error",
          "ename": "ValueError",
          "evalue": "ignored",
          "traceback": [
            "\u001b[0;31m---------------------------------------------------------------------------\u001b[0m",
            "\u001b[0;31mValueError\u001b[0m                                Traceback (most recent call last)",
            "\u001b[0;32m/usr/local/lib/python3.10/dist-packages/pandas/core/indexing.py\u001b[0m in \u001b[0;36m_validate_tuple_indexer\u001b[0;34m(self, key)\u001b[0m\n\u001b[1;32m    872\u001b[0m             \u001b[0;32mtry\u001b[0m\u001b[0;34m:\u001b[0m\u001b[0;34m\u001b[0m\u001b[0;34m\u001b[0m\u001b[0m\n\u001b[0;32m--> 873\u001b[0;31m                 \u001b[0mself\u001b[0m\u001b[0;34m.\u001b[0m\u001b[0m_validate_key\u001b[0m\u001b[0;34m(\u001b[0m\u001b[0mk\u001b[0m\u001b[0;34m,\u001b[0m \u001b[0mi\u001b[0m\u001b[0;34m)\u001b[0m\u001b[0;34m\u001b[0m\u001b[0;34m\u001b[0m\u001b[0m\n\u001b[0m\u001b[1;32m    874\u001b[0m             \u001b[0;32mexcept\u001b[0m \u001b[0mValueError\u001b[0m \u001b[0;32mas\u001b[0m \u001b[0merr\u001b[0m\u001b[0;34m:\u001b[0m\u001b[0;34m\u001b[0m\u001b[0;34m\u001b[0m\u001b[0m\n",
            "\u001b[0;32m/usr/local/lib/python3.10/dist-packages/pandas/core/indexing.py\u001b[0m in \u001b[0;36m_validate_key\u001b[0;34m(self, key, axis)\u001b[0m\n\u001b[1;32m   1482\u001b[0m         \u001b[0;32melse\u001b[0m\u001b[0;34m:\u001b[0m\u001b[0;34m\u001b[0m\u001b[0;34m\u001b[0m\u001b[0m\n\u001b[0;32m-> 1483\u001b[0;31m             \u001b[0;32mraise\u001b[0m \u001b[0mValueError\u001b[0m\u001b[0;34m(\u001b[0m\u001b[0;34mf\"Can only index by location with a [{self._valid_types}]\"\u001b[0m\u001b[0;34m)\u001b[0m\u001b[0;34m\u001b[0m\u001b[0;34m\u001b[0m\u001b[0m\n\u001b[0m\u001b[1;32m   1484\u001b[0m \u001b[0;34m\u001b[0m\u001b[0m\n",
            "\u001b[0;31mValueError\u001b[0m: Can only index by location with a [integer, integer slice (START point is INCLUDED, END point is EXCLUDED), listlike of integers, boolean array]",
            "\nThe above exception was the direct cause of the following exception:\n",
            "\u001b[0;31mValueError\u001b[0m                                Traceback (most recent call last)",
            "\u001b[0;32m<ipython-input-8-b19a98d3ae43>\u001b[0m in \u001b[0;36m<cell line: 1>\u001b[0;34m()\u001b[0m\n\u001b[0;32m----> 1\u001b[0;31m \u001b[0mdf\u001b[0m\u001b[0;34m.\u001b[0m\u001b[0miloc\u001b[0m\u001b[0;34m[\u001b[0m\u001b[0;36m0\u001b[0m\u001b[0;34m,\u001b[0m\u001b[0;34m\"price\"\u001b[0m\u001b[0;34m]\u001b[0m\u001b[0;34m\u001b[0m\u001b[0;34m\u001b[0m\u001b[0m\n\u001b[0m",
            "\u001b[0;32m/usr/local/lib/python3.10/dist-packages/pandas/core/indexing.py\u001b[0m in \u001b[0;36m__getitem__\u001b[0;34m(self, key)\u001b[0m\n\u001b[1;32m   1065\u001b[0m             \u001b[0;32mif\u001b[0m \u001b[0mself\u001b[0m\u001b[0;34m.\u001b[0m\u001b[0m_is_scalar_access\u001b[0m\u001b[0;34m(\u001b[0m\u001b[0mkey\u001b[0m\u001b[0;34m)\u001b[0m\u001b[0;34m:\u001b[0m\u001b[0;34m\u001b[0m\u001b[0;34m\u001b[0m\u001b[0m\n\u001b[1;32m   1066\u001b[0m                 \u001b[0;32mreturn\u001b[0m \u001b[0mself\u001b[0m\u001b[0;34m.\u001b[0m\u001b[0mobj\u001b[0m\u001b[0;34m.\u001b[0m\u001b[0m_get_value\u001b[0m\u001b[0;34m(\u001b[0m\u001b[0;34m*\u001b[0m\u001b[0mkey\u001b[0m\u001b[0;34m,\u001b[0m \u001b[0mtakeable\u001b[0m\u001b[0;34m=\u001b[0m\u001b[0mself\u001b[0m\u001b[0;34m.\u001b[0m\u001b[0m_takeable\u001b[0m\u001b[0;34m)\u001b[0m\u001b[0;34m\u001b[0m\u001b[0;34m\u001b[0m\u001b[0m\n\u001b[0;32m-> 1067\u001b[0;31m             \u001b[0;32mreturn\u001b[0m \u001b[0mself\u001b[0m\u001b[0;34m.\u001b[0m\u001b[0m_getitem_tuple\u001b[0m\u001b[0;34m(\u001b[0m\u001b[0mkey\u001b[0m\u001b[0;34m)\u001b[0m\u001b[0;34m\u001b[0m\u001b[0;34m\u001b[0m\u001b[0m\n\u001b[0m\u001b[1;32m   1068\u001b[0m         \u001b[0;32melse\u001b[0m\u001b[0;34m:\u001b[0m\u001b[0;34m\u001b[0m\u001b[0;34m\u001b[0m\u001b[0m\n\u001b[1;32m   1069\u001b[0m             \u001b[0;31m# we by definition only have the 0th axis\u001b[0m\u001b[0;34m\u001b[0m\u001b[0;34m\u001b[0m\u001b[0m\n",
            "\u001b[0;32m/usr/local/lib/python3.10/dist-packages/pandas/core/indexing.py\u001b[0m in \u001b[0;36m_getitem_tuple\u001b[0;34m(self, tup)\u001b[0m\n\u001b[1;32m   1561\u001b[0m     \u001b[0;32mdef\u001b[0m \u001b[0m_getitem_tuple\u001b[0m\u001b[0;34m(\u001b[0m\u001b[0mself\u001b[0m\u001b[0;34m,\u001b[0m \u001b[0mtup\u001b[0m\u001b[0;34m:\u001b[0m \u001b[0mtuple\u001b[0m\u001b[0;34m)\u001b[0m\u001b[0;34m:\u001b[0m\u001b[0;34m\u001b[0m\u001b[0;34m\u001b[0m\u001b[0m\n\u001b[1;32m   1562\u001b[0m \u001b[0;34m\u001b[0m\u001b[0m\n\u001b[0;32m-> 1563\u001b[0;31m         \u001b[0mtup\u001b[0m \u001b[0;34m=\u001b[0m \u001b[0mself\u001b[0m\u001b[0;34m.\u001b[0m\u001b[0m_validate_tuple_indexer\u001b[0m\u001b[0;34m(\u001b[0m\u001b[0mtup\u001b[0m\u001b[0;34m)\u001b[0m\u001b[0;34m\u001b[0m\u001b[0;34m\u001b[0m\u001b[0m\n\u001b[0m\u001b[1;32m   1564\u001b[0m         \u001b[0;32mwith\u001b[0m \u001b[0msuppress\u001b[0m\u001b[0;34m(\u001b[0m\u001b[0mIndexingError\u001b[0m\u001b[0;34m)\u001b[0m\u001b[0;34m:\u001b[0m\u001b[0;34m\u001b[0m\u001b[0;34m\u001b[0m\u001b[0m\n\u001b[1;32m   1565\u001b[0m             \u001b[0;32mreturn\u001b[0m \u001b[0mself\u001b[0m\u001b[0;34m.\u001b[0m\u001b[0m_getitem_lowerdim\u001b[0m\u001b[0;34m(\u001b[0m\u001b[0mtup\u001b[0m\u001b[0;34m)\u001b[0m\u001b[0;34m\u001b[0m\u001b[0;34m\u001b[0m\u001b[0m\n",
            "\u001b[0;32m/usr/local/lib/python3.10/dist-packages/pandas/core/indexing.py\u001b[0m in \u001b[0;36m_validate_tuple_indexer\u001b[0;34m(self, key)\u001b[0m\n\u001b[1;32m    873\u001b[0m                 \u001b[0mself\u001b[0m\u001b[0;34m.\u001b[0m\u001b[0m_validate_key\u001b[0m\u001b[0;34m(\u001b[0m\u001b[0mk\u001b[0m\u001b[0;34m,\u001b[0m \u001b[0mi\u001b[0m\u001b[0;34m)\u001b[0m\u001b[0;34m\u001b[0m\u001b[0;34m\u001b[0m\u001b[0m\n\u001b[1;32m    874\u001b[0m             \u001b[0;32mexcept\u001b[0m \u001b[0mValueError\u001b[0m \u001b[0;32mas\u001b[0m \u001b[0merr\u001b[0m\u001b[0;34m:\u001b[0m\u001b[0;34m\u001b[0m\u001b[0;34m\u001b[0m\u001b[0m\n\u001b[0;32m--> 875\u001b[0;31m                 raise ValueError(\n\u001b[0m\u001b[1;32m    876\u001b[0m                     \u001b[0;34m\"Location based indexing can only have \"\u001b[0m\u001b[0;34m\u001b[0m\u001b[0;34m\u001b[0m\u001b[0m\n\u001b[1;32m    877\u001b[0m                     \u001b[0;34mf\"[{self._valid_types}] types\"\u001b[0m\u001b[0;34m\u001b[0m\u001b[0;34m\u001b[0m\u001b[0m\n",
            "\u001b[0;31mValueError\u001b[0m: Location based indexing can only have [integer, integer slice (START point is INCLUDED, END point is EXCLUDED), listlike of integers, boolean array] types"
          ]
        }
      ]
    },
    {
      "cell_type": "code",
      "source": [
        "df.iloc[0,1]"
      ],
      "metadata": {
        "colab": {
          "base_uri": "https://localhost:8080/"
        },
        "id": "BQIUU50ELviq",
        "outputId": "8957c863-0e5a-4809-f025-213ae0e2c345"
      },
      "execution_count": null,
      "outputs": [
        {
          "output_type": "execute_result",
          "data": {
            "text/plain": [
              "81"
            ]
          },
          "metadata": {},
          "execution_count": 9
        }
      ]
    },
    {
      "cell_type": "code",
      "source": [
        "df.columns[0]"
      ],
      "metadata": {
        "colab": {
          "base_uri": "https://localhost:8080/",
          "height": 35
        },
        "id": "RBq-Q1joLVlN",
        "outputId": "0f18f79e-2522-4563-ca21-194789340f18"
      },
      "execution_count": null,
      "outputs": [
        {
          "output_type": "execute_result",
          "data": {
            "text/plain": [
              "'Unnamed: 0'"
            ],
            "application/vnd.google.colaboratory.intrinsic+json": {
              "type": "string"
            }
          },
          "metadata": {},
          "execution_count": 10
        }
      ]
    },
    {
      "cell_type": "markdown",
      "source": [
        "Rename column"
      ],
      "metadata": {
        "id": "7p2R784IM7Kp"
      }
    },
    {
      "cell_type": "code",
      "source": [
        "df.rename(columns = {\"Unnamed: 0\":\"index_1\"},inplace=True)"
      ],
      "metadata": {
        "id": "246Ag15xLOPD"
      },
      "execution_count": null,
      "outputs": []
    },
    {
      "cell_type": "markdown",
      "source": [
        "Now use same command with local index df.loc[0,\"price\"]\n",
        "gives us an error, because now local label index is set on column \"index_1\", where it starts numerating from 1."
      ],
      "metadata": {
        "id": "jiO3OKdhMTx_"
      }
    },
    {
      "cell_type": "code",
      "source": [
        "df.set_index(\"index_1\",inplace = True, drop=False)"
      ],
      "metadata": {
        "id": "-n7lTE9pLnCb"
      },
      "execution_count": null,
      "outputs": []
    },
    {
      "cell_type": "code",
      "source": [
        "df.columns"
      ],
      "metadata": {
        "colab": {
          "base_uri": "https://localhost:8080/"
        },
        "id": "1AyE_a7KL-1U",
        "outputId": "e01984b1-59ed-496f-fd6e-b868de81fa4d"
      },
      "execution_count": null,
      "outputs": [
        {
          "output_type": "execute_result",
          "data": {
            "text/plain": [
              "Index(['index_1', 'price', 'totsp', 'livesp', 'kitsp', 'dist', 'metrdist',\n",
              "       'walk', 'brick', 'floor', 'code'],\n",
              "      dtype='object')"
            ]
          },
          "metadata": {},
          "execution_count": 13
        }
      ]
    },
    {
      "cell_type": "code",
      "source": [
        "df.iloc[0,1]"
      ],
      "metadata": {
        "colab": {
          "base_uri": "https://localhost:8080/"
        },
        "id": "OprhmB5gNBOZ",
        "outputId": "7382734c-5601-4dd3-8af7-15a904840886"
      },
      "execution_count": null,
      "outputs": [
        {
          "output_type": "execute_result",
          "data": {
            "text/plain": [
              "81"
            ]
          },
          "metadata": {},
          "execution_count": 14
        }
      ]
    },
    {
      "cell_type": "code",
      "source": [
        "df.loc[0,\"price\"]"
      ],
      "metadata": {
        "colab": {
          "base_uri": "https://localhost:8080/",
          "height": 524
        },
        "id": "dsOCsbieMChw",
        "outputId": "77790a1f-e4ba-4be9-c5da-11ec79fce4ea"
      },
      "execution_count": null,
      "outputs": [
        {
          "output_type": "error",
          "ename": "KeyError",
          "evalue": "ignored",
          "traceback": [
            "\u001b[0;31m---------------------------------------------------------------------------\u001b[0m",
            "\u001b[0;31mKeyError\u001b[0m                                  Traceback (most recent call last)",
            "\u001b[0;32m/usr/local/lib/python3.10/dist-packages/pandas/core/indexes/base.py\u001b[0m in \u001b[0;36mget_loc\u001b[0;34m(self, key, method, tolerance)\u001b[0m\n\u001b[1;32m   3801\u001b[0m             \u001b[0;32mtry\u001b[0m\u001b[0;34m:\u001b[0m\u001b[0;34m\u001b[0m\u001b[0;34m\u001b[0m\u001b[0m\n\u001b[0;32m-> 3802\u001b[0;31m                 \u001b[0;32mreturn\u001b[0m \u001b[0mself\u001b[0m\u001b[0;34m.\u001b[0m\u001b[0m_engine\u001b[0m\u001b[0;34m.\u001b[0m\u001b[0mget_loc\u001b[0m\u001b[0;34m(\u001b[0m\u001b[0mcasted_key\u001b[0m\u001b[0;34m)\u001b[0m\u001b[0;34m\u001b[0m\u001b[0;34m\u001b[0m\u001b[0m\n\u001b[0m\u001b[1;32m   3803\u001b[0m             \u001b[0;32mexcept\u001b[0m \u001b[0mKeyError\u001b[0m \u001b[0;32mas\u001b[0m \u001b[0merr\u001b[0m\u001b[0;34m:\u001b[0m\u001b[0;34m\u001b[0m\u001b[0;34m\u001b[0m\u001b[0m\n",
            "\u001b[0;32m/usr/local/lib/python3.10/dist-packages/pandas/_libs/index.pyx\u001b[0m in \u001b[0;36mpandas._libs.index.IndexEngine.get_loc\u001b[0;34m()\u001b[0m\n",
            "\u001b[0;32m/usr/local/lib/python3.10/dist-packages/pandas/_libs/index.pyx\u001b[0m in \u001b[0;36mpandas._libs.index.IndexEngine.get_loc\u001b[0;34m()\u001b[0m\n",
            "\u001b[0;32mpandas/_libs/hashtable_class_helper.pxi\u001b[0m in \u001b[0;36mpandas._libs.hashtable.Int64HashTable.get_item\u001b[0;34m()\u001b[0m\n",
            "\u001b[0;32mpandas/_libs/hashtable_class_helper.pxi\u001b[0m in \u001b[0;36mpandas._libs.hashtable.Int64HashTable.get_item\u001b[0;34m()\u001b[0m\n",
            "\u001b[0;31mKeyError\u001b[0m: 0",
            "\nThe above exception was the direct cause of the following exception:\n",
            "\u001b[0;31mKeyError\u001b[0m                                  Traceback (most recent call last)",
            "\u001b[0;32m<ipython-input-15-2d6efce6d167>\u001b[0m in \u001b[0;36m<cell line: 1>\u001b[0;34m()\u001b[0m\n\u001b[0;32m----> 1\u001b[0;31m \u001b[0mdf\u001b[0m\u001b[0;34m.\u001b[0m\u001b[0mloc\u001b[0m\u001b[0;34m[\u001b[0m\u001b[0;36m0\u001b[0m\u001b[0;34m,\u001b[0m\u001b[0;34m\"price\"\u001b[0m\u001b[0;34m]\u001b[0m\u001b[0;34m\u001b[0m\u001b[0;34m\u001b[0m\u001b[0m\n\u001b[0m",
            "\u001b[0;32m/usr/local/lib/python3.10/dist-packages/pandas/core/indexing.py\u001b[0m in \u001b[0;36m__getitem__\u001b[0;34m(self, key)\u001b[0m\n\u001b[1;32m   1064\u001b[0m             \u001b[0mkey\u001b[0m \u001b[0;34m=\u001b[0m \u001b[0mtuple\u001b[0m\u001b[0;34m(\u001b[0m\u001b[0mcom\u001b[0m\u001b[0;34m.\u001b[0m\u001b[0mapply_if_callable\u001b[0m\u001b[0;34m(\u001b[0m\u001b[0mx\u001b[0m\u001b[0;34m,\u001b[0m \u001b[0mself\u001b[0m\u001b[0;34m.\u001b[0m\u001b[0mobj\u001b[0m\u001b[0;34m)\u001b[0m \u001b[0;32mfor\u001b[0m \u001b[0mx\u001b[0m \u001b[0;32min\u001b[0m \u001b[0mkey\u001b[0m\u001b[0;34m)\u001b[0m\u001b[0;34m\u001b[0m\u001b[0;34m\u001b[0m\u001b[0m\n\u001b[1;32m   1065\u001b[0m             \u001b[0;32mif\u001b[0m \u001b[0mself\u001b[0m\u001b[0;34m.\u001b[0m\u001b[0m_is_scalar_access\u001b[0m\u001b[0;34m(\u001b[0m\u001b[0mkey\u001b[0m\u001b[0;34m)\u001b[0m\u001b[0;34m:\u001b[0m\u001b[0;34m\u001b[0m\u001b[0;34m\u001b[0m\u001b[0m\n\u001b[0;32m-> 1066\u001b[0;31m                 \u001b[0;32mreturn\u001b[0m \u001b[0mself\u001b[0m\u001b[0;34m.\u001b[0m\u001b[0mobj\u001b[0m\u001b[0;34m.\u001b[0m\u001b[0m_get_value\u001b[0m\u001b[0;34m(\u001b[0m\u001b[0;34m*\u001b[0m\u001b[0mkey\u001b[0m\u001b[0;34m,\u001b[0m \u001b[0mtakeable\u001b[0m\u001b[0;34m=\u001b[0m\u001b[0mself\u001b[0m\u001b[0;34m.\u001b[0m\u001b[0m_takeable\u001b[0m\u001b[0;34m)\u001b[0m\u001b[0;34m\u001b[0m\u001b[0;34m\u001b[0m\u001b[0m\n\u001b[0m\u001b[1;32m   1067\u001b[0m             \u001b[0;32mreturn\u001b[0m \u001b[0mself\u001b[0m\u001b[0;34m.\u001b[0m\u001b[0m_getitem_tuple\u001b[0m\u001b[0;34m(\u001b[0m\u001b[0mkey\u001b[0m\u001b[0;34m)\u001b[0m\u001b[0;34m\u001b[0m\u001b[0;34m\u001b[0m\u001b[0m\n\u001b[1;32m   1068\u001b[0m         \u001b[0;32melse\u001b[0m\u001b[0;34m:\u001b[0m\u001b[0;34m\u001b[0m\u001b[0;34m\u001b[0m\u001b[0m\n",
            "\u001b[0;32m/usr/local/lib/python3.10/dist-packages/pandas/core/frame.py\u001b[0m in \u001b[0;36m_get_value\u001b[0;34m(self, index, col, takeable)\u001b[0m\n\u001b[1;32m   3922\u001b[0m             \u001b[0;31m#  results if our categories are integers that dont match our codes\u001b[0m\u001b[0;34m\u001b[0m\u001b[0;34m\u001b[0m\u001b[0m\n\u001b[1;32m   3923\u001b[0m             \u001b[0;31m# IntervalIndex: IntervalTree has no get_loc\u001b[0m\u001b[0;34m\u001b[0m\u001b[0;34m\u001b[0m\u001b[0m\n\u001b[0;32m-> 3924\u001b[0;31m             \u001b[0mrow\u001b[0m \u001b[0;34m=\u001b[0m \u001b[0mself\u001b[0m\u001b[0;34m.\u001b[0m\u001b[0mindex\u001b[0m\u001b[0;34m.\u001b[0m\u001b[0mget_loc\u001b[0m\u001b[0;34m(\u001b[0m\u001b[0mindex\u001b[0m\u001b[0;34m)\u001b[0m\u001b[0;34m\u001b[0m\u001b[0;34m\u001b[0m\u001b[0m\n\u001b[0m\u001b[1;32m   3925\u001b[0m             \u001b[0;32mreturn\u001b[0m \u001b[0mseries\u001b[0m\u001b[0;34m.\u001b[0m\u001b[0m_values\u001b[0m\u001b[0;34m[\u001b[0m\u001b[0mrow\u001b[0m\u001b[0;34m]\u001b[0m\u001b[0;34m\u001b[0m\u001b[0;34m\u001b[0m\u001b[0m\n\u001b[1;32m   3926\u001b[0m \u001b[0;34m\u001b[0m\u001b[0m\n",
            "\u001b[0;32m/usr/local/lib/python3.10/dist-packages/pandas/core/indexes/base.py\u001b[0m in \u001b[0;36mget_loc\u001b[0;34m(self, key, method, tolerance)\u001b[0m\n\u001b[1;32m   3802\u001b[0m                 \u001b[0;32mreturn\u001b[0m \u001b[0mself\u001b[0m\u001b[0;34m.\u001b[0m\u001b[0m_engine\u001b[0m\u001b[0;34m.\u001b[0m\u001b[0mget_loc\u001b[0m\u001b[0;34m(\u001b[0m\u001b[0mcasted_key\u001b[0m\u001b[0;34m)\u001b[0m\u001b[0;34m\u001b[0m\u001b[0;34m\u001b[0m\u001b[0m\n\u001b[1;32m   3803\u001b[0m             \u001b[0;32mexcept\u001b[0m \u001b[0mKeyError\u001b[0m \u001b[0;32mas\u001b[0m \u001b[0merr\u001b[0m\u001b[0;34m:\u001b[0m\u001b[0;34m\u001b[0m\u001b[0;34m\u001b[0m\u001b[0m\n\u001b[0;32m-> 3804\u001b[0;31m                 \u001b[0;32mraise\u001b[0m \u001b[0mKeyError\u001b[0m\u001b[0;34m(\u001b[0m\u001b[0mkey\u001b[0m\u001b[0;34m)\u001b[0m \u001b[0;32mfrom\u001b[0m \u001b[0merr\u001b[0m\u001b[0;34m\u001b[0m\u001b[0;34m\u001b[0m\u001b[0m\n\u001b[0m\u001b[1;32m   3805\u001b[0m             \u001b[0;32mexcept\u001b[0m \u001b[0mTypeError\u001b[0m\u001b[0;34m:\u001b[0m\u001b[0;34m\u001b[0m\u001b[0;34m\u001b[0m\u001b[0m\n\u001b[1;32m   3806\u001b[0m                 \u001b[0;31m# If we have a listlike key, _check_indexing_error will raise\u001b[0m\u001b[0;34m\u001b[0m\u001b[0;34m\u001b[0m\u001b[0m\n",
            "\u001b[0;31mKeyError\u001b[0m: 0"
          ]
        }
      ]
    },
    {
      "cell_type": "code",
      "source": [
        "df.loc[1,\"price\"]"
      ],
      "metadata": {
        "colab": {
          "base_uri": "https://localhost:8080/"
        },
        "id": "OkEiAC7oNE7P",
        "outputId": "55f24981-eced-4bea-fd2e-e2ce7c1ff5a4"
      },
      "execution_count": null,
      "outputs": [
        {
          "output_type": "execute_result",
          "data": {
            "text/plain": [
              "81"
            ]
          },
          "metadata": {},
          "execution_count": 16
        }
      ]
    },
    {
      "cell_type": "code",
      "source": [
        "df.index"
      ],
      "metadata": {
        "colab": {
          "base_uri": "https://localhost:8080/"
        },
        "id": "csIR8vf8Ms7t",
        "outputId": "8d958adc-0817-4ae1-c4d6-f789d9260ba9"
      },
      "execution_count": null,
      "outputs": [
        {
          "output_type": "execute_result",
          "data": {
            "text/plain": [
              "Int64Index([   1,    2,    3,    4,    5,    6,    7,    8,    9,   10,\n",
              "            ...\n",
              "            2031, 2032, 2033, 2034, 2035, 2036, 2037, 2038, 2039, 2040],\n",
              "           dtype='int64', name='index_1', length=2040)"
            ]
          },
          "metadata": {},
          "execution_count": 17
        }
      ]
    },
    {
      "cell_type": "markdown",
      "source": [
        "Reset the index of the DataFrame, and use the default one instead.\n",
        "If the DataFrame has a MultiIndex, this method can remove one or more\n",
        "levels.\n",
        "Parameters\n",
        "\n",
        "level : int, str, tuple, or list, default None\n",
        "    Only remove the given levels from the index. Removes all levels by default.\n",
        "drop : bool, default False\n",
        "    Do not try to insert index into dataframe columns. This resets the index to the default integer index.\n",
        "inplace : bool, default False\n",
        "    Whether to modify the DataFrame rather than creating a new one."
      ],
      "metadata": {
        "id": "JJJr-smPNjPT"
      }
    },
    {
      "cell_type": "code",
      "source": [
        "df.reset_index(level = None, inplace =True,)"
      ],
      "metadata": {
        "id": "P7n5iGF2NP0h",
        "colab": {
          "base_uri": "https://localhost:8080/",
          "height": 328
        },
        "outputId": "ef2cbc8e-a19b-4747-a9ae-47fca653c685"
      },
      "execution_count": null,
      "outputs": [
        {
          "output_type": "error",
          "ename": "ValueError",
          "evalue": "ignored",
          "traceback": [
            "\u001b[0;31m---------------------------------------------------------------------------\u001b[0m",
            "\u001b[0;31mValueError\u001b[0m                                Traceback (most recent call last)",
            "\u001b[0;32m<ipython-input-18-70360c03e467>\u001b[0m in \u001b[0;36m<cell line: 1>\u001b[0;34m()\u001b[0m\n\u001b[0;32m----> 1\u001b[0;31m \u001b[0mdf\u001b[0m\u001b[0;34m.\u001b[0m\u001b[0mreset_index\u001b[0m\u001b[0;34m(\u001b[0m\u001b[0mlevel\u001b[0m \u001b[0;34m=\u001b[0m \u001b[0;32mNone\u001b[0m\u001b[0;34m,\u001b[0m \u001b[0minplace\u001b[0m \u001b[0;34m=\u001b[0m\u001b[0;32mTrue\u001b[0m\u001b[0;34m,\u001b[0m\u001b[0;34m)\u001b[0m\u001b[0;34m\u001b[0m\u001b[0;34m\u001b[0m\u001b[0m\n\u001b[0m",
            "\u001b[0;32m/usr/local/lib/python3.10/dist-packages/pandas/util/_decorators.py\u001b[0m in \u001b[0;36mwrapper\u001b[0;34m(*args, **kwargs)\u001b[0m\n\u001b[1;32m    329\u001b[0m                     \u001b[0mstacklevel\u001b[0m\u001b[0;34m=\u001b[0m\u001b[0mfind_stack_level\u001b[0m\u001b[0;34m(\u001b[0m\u001b[0;34m)\u001b[0m\u001b[0;34m,\u001b[0m\u001b[0;34m\u001b[0m\u001b[0;34m\u001b[0m\u001b[0m\n\u001b[1;32m    330\u001b[0m                 )\n\u001b[0;32m--> 331\u001b[0;31m             \u001b[0;32mreturn\u001b[0m \u001b[0mfunc\u001b[0m\u001b[0;34m(\u001b[0m\u001b[0;34m*\u001b[0m\u001b[0margs\u001b[0m\u001b[0;34m,\u001b[0m \u001b[0;34m**\u001b[0m\u001b[0mkwargs\u001b[0m\u001b[0;34m)\u001b[0m\u001b[0;34m\u001b[0m\u001b[0;34m\u001b[0m\u001b[0m\n\u001b[0m\u001b[1;32m    332\u001b[0m \u001b[0;34m\u001b[0m\u001b[0m\n\u001b[1;32m    333\u001b[0m         \u001b[0;31m# error: \"Callable[[VarArg(Any), KwArg(Any)], Any]\" has no\u001b[0m\u001b[0;34m\u001b[0m\u001b[0;34m\u001b[0m\u001b[0m\n",
            "\u001b[0;32m/usr/local/lib/python3.10/dist-packages/pandas/core/frame.py\u001b[0m in \u001b[0;36mreset_index\u001b[0;34m(self, level, drop, inplace, col_level, col_fill, allow_duplicates, names)\u001b[0m\n\u001b[1;32m   6359\u001b[0m                     )\n\u001b[1;32m   6360\u001b[0m \u001b[0;34m\u001b[0m\u001b[0m\n\u001b[0;32m-> 6361\u001b[0;31m                 new_obj.insert(\n\u001b[0m\u001b[1;32m   6362\u001b[0m                     \u001b[0;36m0\u001b[0m\u001b[0;34m,\u001b[0m\u001b[0;34m\u001b[0m\u001b[0;34m\u001b[0m\u001b[0m\n\u001b[1;32m   6363\u001b[0m                     \u001b[0mname\u001b[0m\u001b[0;34m,\u001b[0m\u001b[0;34m\u001b[0m\u001b[0;34m\u001b[0m\u001b[0m\n",
            "\u001b[0;32m/usr/local/lib/python3.10/dist-packages/pandas/core/frame.py\u001b[0m in \u001b[0;36minsert\u001b[0;34m(self, loc, column, value, allow_duplicates)\u001b[0m\n\u001b[1;32m   4815\u001b[0m         \u001b[0;32mif\u001b[0m \u001b[0;32mnot\u001b[0m \u001b[0mallow_duplicates\u001b[0m \u001b[0;32mand\u001b[0m \u001b[0mcolumn\u001b[0m \u001b[0;32min\u001b[0m \u001b[0mself\u001b[0m\u001b[0;34m.\u001b[0m\u001b[0mcolumns\u001b[0m\u001b[0;34m:\u001b[0m\u001b[0;34m\u001b[0m\u001b[0;34m\u001b[0m\u001b[0m\n\u001b[1;32m   4816\u001b[0m             \u001b[0;31m# Should this be a different kind of error??\u001b[0m\u001b[0;34m\u001b[0m\u001b[0;34m\u001b[0m\u001b[0m\n\u001b[0;32m-> 4817\u001b[0;31m             \u001b[0;32mraise\u001b[0m \u001b[0mValueError\u001b[0m\u001b[0;34m(\u001b[0m\u001b[0;34mf\"cannot insert {column}, already exists\"\u001b[0m\u001b[0;34m)\u001b[0m\u001b[0;34m\u001b[0m\u001b[0;34m\u001b[0m\u001b[0m\n\u001b[0m\u001b[1;32m   4818\u001b[0m         \u001b[0;32mif\u001b[0m \u001b[0;32mnot\u001b[0m \u001b[0misinstance\u001b[0m\u001b[0;34m(\u001b[0m\u001b[0mloc\u001b[0m\u001b[0;34m,\u001b[0m \u001b[0mint\u001b[0m\u001b[0;34m)\u001b[0m\u001b[0;34m:\u001b[0m\u001b[0;34m\u001b[0m\u001b[0;34m\u001b[0m\u001b[0m\n\u001b[1;32m   4819\u001b[0m             \u001b[0;32mraise\u001b[0m \u001b[0mTypeError\u001b[0m\u001b[0;34m(\u001b[0m\u001b[0;34m\"loc must be int\"\u001b[0m\u001b[0;34m)\u001b[0m\u001b[0;34m\u001b[0m\u001b[0;34m\u001b[0m\u001b[0m\n",
            "\u001b[0;31mValueError\u001b[0m: cannot insert index_1, already exists"
          ]
        }
      ]
    },
    {
      "cell_type": "markdown",
      "source": [
        "Let us undersatnd the difference between **.iloc and .loc** indexing:\n",
        "\n",
        "The function **.loc** is typically used for **label indexing** and can access multiple columns, while **.iloc** is used for **integer indexing**"
      ],
      "metadata": {
        "id": "YYW50DZmsQJp"
      }
    },
    {
      "cell_type": "markdown",
      "source": [
        "Label indexing is that we can set index manually:"
      ],
      "metadata": {
        "id": "3wM_I8Ius4Fj"
      }
    },
    {
      "cell_type": "markdown",
      "source": [
        "# Pecularities of Copy of columns and writing into variable\n",
        "(Записываем в переменную)"
      ],
      "metadata": {
        "id": "cb1a5C62Xw_y"
      }
    },
    {
      "cell_type": "code",
      "source": [
        "y = df['price']"
      ],
      "metadata": {
        "id": "NLrD6NFEXvky"
      },
      "execution_count": null,
      "outputs": []
    },
    {
      "cell_type": "markdown",
      "source": [
        "Change in y generates change in df, as y is linked to dataset."
      ],
      "metadata": {
        "id": "sDMBZUnXZqb8"
      }
    },
    {
      "cell_type": "code",
      "source": [
        "y[1]=3"
      ],
      "metadata": {
        "id": "HKof3ypaYJA2"
      },
      "execution_count": null,
      "outputs": []
    },
    {
      "cell_type": "code",
      "source": [
        "df.loc[1,\"price\"]"
      ],
      "metadata": {
        "colab": {
          "base_uri": "https://localhost:8080/"
        },
        "id": "38VWYtAzZlWh",
        "outputId": "fac57f17-9594-4daf-ddd9-b6332879884b"
      },
      "execution_count": null,
      "outputs": [
        {
          "output_type": "execute_result",
          "data": {
            "text/plain": [
              "3"
            ]
          },
          "metadata": {},
          "execution_count": 70
        }
      ]
    },
    {
      "cell_type": "markdown",
      "source": [
        "# Dataset changed :((\n",
        "  Why? y is a link to dataset, if we change y wee change y"
      ],
      "metadata": {
        "id": "Q3gq-BA8at2r"
      }
    },
    {
      "cell_type": "markdown",
      "source": [
        "Now what if we change dataset what happens to y?\n"
      ],
      "metadata": {
        "id": "q2598dwWbA1O"
      }
    },
    {
      "cell_type": "code",
      "source": [
        "df.loc[3,\"price\"]"
      ],
      "metadata": {
        "colab": {
          "base_uri": "https://localhost:8080/"
        },
        "id": "qO57pOumbAet",
        "outputId": "68fc4cf8-d18e-4f63-ab10-ac1278c29bbd"
      },
      "execution_count": null,
      "outputs": [
        {
          "output_type": "execute_result",
          "data": {
            "text/plain": [
              "128"
            ]
          },
          "metadata": {},
          "execution_count": 72
        }
      ]
    },
    {
      "cell_type": "code",
      "source": [
        "df.loc[3,\"price\"] = 4\n",
        "print(df.loc[3,\"price\"])"
      ],
      "metadata": {
        "colab": {
          "base_uri": "https://localhost:8080/"
        },
        "id": "WaWvo2WSbo4_",
        "outputId": "c04c690f-3618-4647-ff6c-4352f6bd6b08"
      },
      "execution_count": null,
      "outputs": [
        {
          "output_type": "stream",
          "name": "stdout",
          "text": [
            "4\n"
          ]
        }
      ]
    },
    {
      "cell_type": "markdown",
      "source": [
        "But if we change dataset **df** ,then **y** does not changes"
      ],
      "metadata": {
        "id": "gsY5HLYpcOm5"
      }
    },
    {
      "cell_type": "code",
      "source": [
        "print(y[3])"
      ],
      "metadata": {
        "colab": {
          "base_uri": "https://localhost:8080/"
        },
        "id": "w2U0ZU0PcCtB",
        "outputId": "63d577dd-c3e7-4b1b-f6b8-da6c7b23f599"
      },
      "execution_count": null,
      "outputs": [
        {
          "output_type": "stream",
          "name": "stdout",
          "text": [
            "128\n"
          ]
        }
      ]
    },
    {
      "cell_type": "markdown",
      "source": [
        "Let us reload dataset"
      ],
      "metadata": {
        "id": "6rsMSmXTccKU"
      }
    },
    {
      "cell_type": "code",
      "source": [
        "df = pd.read_csv(\"flats_moscow.csv\")"
      ],
      "metadata": {
        "id": "_wrdNECFcjTU"
      },
      "execution_count": null,
      "outputs": []
    },
    {
      "cell_type": "code",
      "source": [
        "y_copy = df['price'].copy()"
      ],
      "metadata": {
        "id": "hNrFrU-AaQ5t"
      },
      "execution_count": null,
      "outputs": []
    },
    {
      "cell_type": "code",
      "source": [
        "print(y_copy)"
      ],
      "metadata": {
        "colab": {
          "base_uri": "https://localhost:8080/"
        },
        "id": "SYx3Ne0XcikL",
        "outputId": "ce5703fa-d0bb-46e6-daa4-3f56b1197b3e"
      },
      "execution_count": null,
      "outputs": [
        {
          "output_type": "stream",
          "name": "stdout",
          "text": [
            "0        81\n",
            "1        75\n",
            "2       128\n",
            "3        95\n",
            "4       330\n",
            "       ... \n",
            "2035    110\n",
            "2036     95\n",
            "2037     95\n",
            "2038    129\n",
            "2039    103\n",
            "Name: price, Length: 2040, dtype: int64\n"
          ]
        }
      ]
    },
    {
      "cell_type": "markdown",
      "source": [
        "Let us repeat the experiment: with y_copy"
      ],
      "metadata": {
        "id": "vZvPq8recorO"
      }
    },
    {
      "cell_type": "code",
      "source": [
        "print(\"before change, y_copy[1]\", y_copy[1])\n",
        "y_copy[1]=2\n",
        "print(\"after  change  of y_copy[1]\",y_copy[1])\n",
        "print(\"after  change  of y_copy[1], df changes \",df.loc[1,\"price\"])"
      ],
      "metadata": {
        "colab": {
          "base_uri": "https://localhost:8080/"
        },
        "id": "-HrLIlxqcxpW",
        "outputId": "f8180bc8-9a6a-46ab-db2b-a3fe3575477e"
      },
      "execution_count": null,
      "outputs": [
        {
          "output_type": "stream",
          "name": "stdout",
          "text": [
            "before change, y_copy[1] 2\n",
            "after  change  of y_copy[1] 2\n",
            "after  change  of y_copy[1], df changes  75\n"
          ]
        }
      ]
    },
    {
      "cell_type": "markdown",
      "source": [
        "Now chage df what happens to y?"
      ],
      "metadata": {
        "id": "49w6WQhAdsjp"
      }
    },
    {
      "cell_type": "code",
      "source": [
        "print(\"before change, df.loc[3,'price'] \", df.loc[3,'price'])\n",
        "df.loc[3,'price'] = 4\n",
        "print(\"after  change  of df.loc[3,'price'] \",df.loc[3,'price'])\n",
        "print(\"after  change  of df.loc[3,'price'], y_copy[3] \",y_copy[3])\n"
      ],
      "metadata": {
        "colab": {
          "base_uri": "https://localhost:8080/"
        },
        "id": "gL0XuFFpcoJP",
        "outputId": "a63ac929-bf47-47ec-dd50-ad0e4cd584e7"
      },
      "execution_count": null,
      "outputs": [
        {
          "output_type": "stream",
          "name": "stdout",
          "text": [
            "before change, df.loc[3,'price']  95\n",
            "after  change  of df.loc[3,'price']  4\n",
            "after  change  of df.loc[3,'price'], y_copy[3]  95\n"
          ]
        }
      ]
    },
    {
      "cell_type": "markdown",
      "source": [
        "## So, copy is a save method if we want to avoid any change!\n",
        "\n",
        "Use\n",
        "```\n",
        "y_copy = df['price'].copy()\n",
        "```"
      ],
      "metadata": {
        "id": "JN6KczJAezie"
      }
    },
    {
      "cell_type": "markdown",
      "source": [
        "# Groupby\n",
        "from the documentation https://pandas.pydata.org/pandas-docs/stable/user_guide/groupby.html\n",
        "\n",
        "By “group by” we are referring to a process involving one or more of the following steps:\n",
        "\n",
        "    - Splitting the data into groups based on some criteria.\n",
        "    - Applying a function to each group independently.\n",
        "    - Combining the results into a data structure.\n",
        "    \n",
        "---\n",
        "`.groupby()` is one of the most powerfull tool for feature engineering. Very often it is used to group object with the same categorical characteristics and compute some statistics (e.g. mean, max, etc.) of a their numerical characteric.\n",
        "\n",
        "Instead of computing average area of houses with high grade you could compute average areas of the\n",
        "houses for every grade in a single command:\n",
        "\n",
        "```\n",
        "data.groupby('grade')['sqm_tot_area'].mean()\n",
        "```\n",
        "\n",
        "You could also make multi-column groups:\n",
        "\n",
        "```\n",
        "data.groupby(['weekday','grade'])['price'].min()\n",
        "```\n",
        "next, you could compute multiple aggregation functions:\n",
        "```\n",
        "data.groupby(['weekday','grade'])['price'].agg([min, max])\n",
        "```\n",
        "\n",
        "instead of using built-in functions you could compute custom functions using apply:\n",
        "```\n",
        "import numpy as np\n",
        "data.groupby(['condition','grade'])['bathrooms'].apply(lambda x: np.quantile(x, .5))\n",
        "```\n",
        "\n",
        "and the coolest thing now is that you can map the results of groupby back on your DataFrame!\n",
        "```\n",
        "gp = data.groupby(['condition'])['bathrooms'].median()\n",
        "data['gp_feature'] = data['condition'].map(gp)\n",
        "```\n",
        "Now, if some house has `condition == 2`, its `gp_feature` will be equal to the median number of\n",
        "bathrooms amongst all houses with `condition == 2`.\n",
        "\n",
        "Read more examples in the documentation https://pandas.pydata.org/pandas-docs/stable/user_guide/groupby.html"
      ],
      "metadata": {
        "id": "kmqwYFm0WqFp"
      }
    },
    {
      "cell_type": "code",
      "source": [
        "df.groupby(\"code\").mean()"
      ],
      "metadata": {
        "colab": {
          "base_uri": "https://localhost:8080/",
          "height": 332
        },
        "id": "TLIictMuWzf_",
        "outputId": "57cdcf9c-2192-4fc9-8172-beb6c01a3386"
      },
      "execution_count": null,
      "outputs": [
        {
          "output_type": "execute_result",
          "data": {
            "text/plain": [
              "       Unnamed: 0       price      totsp     livesp     kitsp       dist  \\\n",
              "code                                                                       \n",
              "1     1016.525735  134.411765  72.687500  46.316176  9.084559  10.808824   \n",
              "2     1101.613953  110.316279  68.018605  43.465116  8.079070  13.753488   \n",
              "3     1005.631884  148.246377  76.950725  48.930435  9.272464  11.317391   \n",
              "4     1002.148325  148.693780  74.712919  47.449761  9.253589   9.344498   \n",
              "5     1004.651786  115.779762  75.696429  45.684524  9.781250  11.748512   \n",
              "6     1056.420233  109.964981  70.466926  45.322957  8.334630  11.198444   \n",
              "7     1004.849558  114.230088  70.650442  45.070796  8.185841  10.090708   \n",
              "8      977.372222  136.744444  72.350000  47.794444  8.519444   8.952778   \n",
              "\n",
              "      metrdist      walk     brick     floor  \n",
              "code                                          \n",
              "1     8.628676  0.750000  0.338235  0.838235  \n",
              "2     7.939535  0.804651  0.134884  0.739535  \n",
              "3     8.382609  0.547826  0.510145  0.791304  \n",
              "4     6.822967  0.708134  0.330144  0.856459  \n",
              "5     7.886905  0.752976  0.136905  0.818452  \n",
              "6     7.949416  0.642023  0.249027  0.774319  \n",
              "7     9.132743  0.561947  0.327434  0.747788  \n",
              "8     7.944444  0.777778  0.605556  0.727778  "
            ],
            "text/html": [
              "\n",
              "  <div id=\"df-31b6c2c3-7728-4aac-896a-c34f299d237f\" class=\"colab-df-container\">\n",
              "    <div>\n",
              "<style scoped>\n",
              "    .dataframe tbody tr th:only-of-type {\n",
              "        vertical-align: middle;\n",
              "    }\n",
              "\n",
              "    .dataframe tbody tr th {\n",
              "        vertical-align: top;\n",
              "    }\n",
              "\n",
              "    .dataframe thead th {\n",
              "        text-align: right;\n",
              "    }\n",
              "</style>\n",
              "<table border=\"1\" class=\"dataframe\">\n",
              "  <thead>\n",
              "    <tr style=\"text-align: right;\">\n",
              "      <th></th>\n",
              "      <th>Unnamed: 0</th>\n",
              "      <th>price</th>\n",
              "      <th>totsp</th>\n",
              "      <th>livesp</th>\n",
              "      <th>kitsp</th>\n",
              "      <th>dist</th>\n",
              "      <th>metrdist</th>\n",
              "      <th>walk</th>\n",
              "      <th>brick</th>\n",
              "      <th>floor</th>\n",
              "    </tr>\n",
              "    <tr>\n",
              "      <th>code</th>\n",
              "      <th></th>\n",
              "      <th></th>\n",
              "      <th></th>\n",
              "      <th></th>\n",
              "      <th></th>\n",
              "      <th></th>\n",
              "      <th></th>\n",
              "      <th></th>\n",
              "      <th></th>\n",
              "      <th></th>\n",
              "    </tr>\n",
              "  </thead>\n",
              "  <tbody>\n",
              "    <tr>\n",
              "      <th>1</th>\n",
              "      <td>1016.525735</td>\n",
              "      <td>134.411765</td>\n",
              "      <td>72.687500</td>\n",
              "      <td>46.316176</td>\n",
              "      <td>9.084559</td>\n",
              "      <td>10.808824</td>\n",
              "      <td>8.628676</td>\n",
              "      <td>0.750000</td>\n",
              "      <td>0.338235</td>\n",
              "      <td>0.838235</td>\n",
              "    </tr>\n",
              "    <tr>\n",
              "      <th>2</th>\n",
              "      <td>1101.613953</td>\n",
              "      <td>110.316279</td>\n",
              "      <td>68.018605</td>\n",
              "      <td>43.465116</td>\n",
              "      <td>8.079070</td>\n",
              "      <td>13.753488</td>\n",
              "      <td>7.939535</td>\n",
              "      <td>0.804651</td>\n",
              "      <td>0.134884</td>\n",
              "      <td>0.739535</td>\n",
              "    </tr>\n",
              "    <tr>\n",
              "      <th>3</th>\n",
              "      <td>1005.631884</td>\n",
              "      <td>148.246377</td>\n",
              "      <td>76.950725</td>\n",
              "      <td>48.930435</td>\n",
              "      <td>9.272464</td>\n",
              "      <td>11.317391</td>\n",
              "      <td>8.382609</td>\n",
              "      <td>0.547826</td>\n",
              "      <td>0.510145</td>\n",
              "      <td>0.791304</td>\n",
              "    </tr>\n",
              "    <tr>\n",
              "      <th>4</th>\n",
              "      <td>1002.148325</td>\n",
              "      <td>148.693780</td>\n",
              "      <td>74.712919</td>\n",
              "      <td>47.449761</td>\n",
              "      <td>9.253589</td>\n",
              "      <td>9.344498</td>\n",
              "      <td>6.822967</td>\n",
              "      <td>0.708134</td>\n",
              "      <td>0.330144</td>\n",
              "      <td>0.856459</td>\n",
              "    </tr>\n",
              "    <tr>\n",
              "      <th>5</th>\n",
              "      <td>1004.651786</td>\n",
              "      <td>115.779762</td>\n",
              "      <td>75.696429</td>\n",
              "      <td>45.684524</td>\n",
              "      <td>9.781250</td>\n",
              "      <td>11.748512</td>\n",
              "      <td>7.886905</td>\n",
              "      <td>0.752976</td>\n",
              "      <td>0.136905</td>\n",
              "      <td>0.818452</td>\n",
              "    </tr>\n",
              "    <tr>\n",
              "      <th>6</th>\n",
              "      <td>1056.420233</td>\n",
              "      <td>109.964981</td>\n",
              "      <td>70.466926</td>\n",
              "      <td>45.322957</td>\n",
              "      <td>8.334630</td>\n",
              "      <td>11.198444</td>\n",
              "      <td>7.949416</td>\n",
              "      <td>0.642023</td>\n",
              "      <td>0.249027</td>\n",
              "      <td>0.774319</td>\n",
              "    </tr>\n",
              "    <tr>\n",
              "      <th>7</th>\n",
              "      <td>1004.849558</td>\n",
              "      <td>114.230088</td>\n",
              "      <td>70.650442</td>\n",
              "      <td>45.070796</td>\n",
              "      <td>8.185841</td>\n",
              "      <td>10.090708</td>\n",
              "      <td>9.132743</td>\n",
              "      <td>0.561947</td>\n",
              "      <td>0.327434</td>\n",
              "      <td>0.747788</td>\n",
              "    </tr>\n",
              "    <tr>\n",
              "      <th>8</th>\n",
              "      <td>977.372222</td>\n",
              "      <td>136.744444</td>\n",
              "      <td>72.350000</td>\n",
              "      <td>47.794444</td>\n",
              "      <td>8.519444</td>\n",
              "      <td>8.952778</td>\n",
              "      <td>7.944444</td>\n",
              "      <td>0.777778</td>\n",
              "      <td>0.605556</td>\n",
              "      <td>0.727778</td>\n",
              "    </tr>\n",
              "  </tbody>\n",
              "</table>\n",
              "</div>\n",
              "    <div class=\"colab-df-buttons\">\n",
              "\n",
              "  <div class=\"colab-df-container\">\n",
              "    <button class=\"colab-df-convert\" onclick=\"convertToInteractive('df-31b6c2c3-7728-4aac-896a-c34f299d237f')\"\n",
              "            title=\"Convert this dataframe to an interactive table.\"\n",
              "            style=\"display:none;\">\n",
              "\n",
              "  <svg xmlns=\"http://www.w3.org/2000/svg\" height=\"24px\" viewBox=\"0 -960 960 960\">\n",
              "    <path d=\"M120-120v-720h720v720H120Zm60-500h600v-160H180v160Zm220 220h160v-160H400v160Zm0 220h160v-160H400v160ZM180-400h160v-160H180v160Zm440 0h160v-160H620v160ZM180-180h160v-160H180v160Zm440 0h160v-160H620v160Z\"/>\n",
              "  </svg>\n",
              "    </button>\n",
              "\n",
              "  <style>\n",
              "    .colab-df-container {\n",
              "      display:flex;\n",
              "      gap: 12px;\n",
              "    }\n",
              "\n",
              "    .colab-df-convert {\n",
              "      background-color: #E8F0FE;\n",
              "      border: none;\n",
              "      border-radius: 50%;\n",
              "      cursor: pointer;\n",
              "      display: none;\n",
              "      fill: #1967D2;\n",
              "      height: 32px;\n",
              "      padding: 0 0 0 0;\n",
              "      width: 32px;\n",
              "    }\n",
              "\n",
              "    .colab-df-convert:hover {\n",
              "      background-color: #E2EBFA;\n",
              "      box-shadow: 0px 1px 2px rgba(60, 64, 67, 0.3), 0px 1px 3px 1px rgba(60, 64, 67, 0.15);\n",
              "      fill: #174EA6;\n",
              "    }\n",
              "\n",
              "    .colab-df-buttons div {\n",
              "      margin-bottom: 4px;\n",
              "    }\n",
              "\n",
              "    [theme=dark] .colab-df-convert {\n",
              "      background-color: #3B4455;\n",
              "      fill: #D2E3FC;\n",
              "    }\n",
              "\n",
              "    [theme=dark] .colab-df-convert:hover {\n",
              "      background-color: #434B5C;\n",
              "      box-shadow: 0px 1px 3px 1px rgba(0, 0, 0, 0.15);\n",
              "      filter: drop-shadow(0px 1px 2px rgba(0, 0, 0, 0.3));\n",
              "      fill: #FFFFFF;\n",
              "    }\n",
              "  </style>\n",
              "\n",
              "    <script>\n",
              "      const buttonEl =\n",
              "        document.querySelector('#df-31b6c2c3-7728-4aac-896a-c34f299d237f button.colab-df-convert');\n",
              "      buttonEl.style.display =\n",
              "        google.colab.kernel.accessAllowed ? 'block' : 'none';\n",
              "\n",
              "      async function convertToInteractive(key) {\n",
              "        const element = document.querySelector('#df-31b6c2c3-7728-4aac-896a-c34f299d237f');\n",
              "        const dataTable =\n",
              "          await google.colab.kernel.invokeFunction('convertToInteractive',\n",
              "                                                    [key], {});\n",
              "        if (!dataTable) return;\n",
              "\n",
              "        const docLinkHtml = 'Like what you see? Visit the ' +\n",
              "          '<a target=\"_blank\" href=https://colab.research.google.com/notebooks/data_table.ipynb>data table notebook</a>'\n",
              "          + ' to learn more about interactive tables.';\n",
              "        element.innerHTML = '';\n",
              "        dataTable['output_type'] = 'display_data';\n",
              "        await google.colab.output.renderOutput(dataTable, element);\n",
              "        const docLink = document.createElement('div');\n",
              "        docLink.innerHTML = docLinkHtml;\n",
              "        element.appendChild(docLink);\n",
              "      }\n",
              "    </script>\n",
              "  </div>\n",
              "\n",
              "\n",
              "<div id=\"df-4c2bb4c9-f0be-4b18-b535-943588547314\">\n",
              "  <button class=\"colab-df-quickchart\" onclick=\"quickchart('df-4c2bb4c9-f0be-4b18-b535-943588547314')\"\n",
              "            title=\"Suggest charts.\"\n",
              "            style=\"display:none;\">\n",
              "\n",
              "<svg xmlns=\"http://www.w3.org/2000/svg\" height=\"24px\"viewBox=\"0 0 24 24\"\n",
              "     width=\"24px\">\n",
              "    <g>\n",
              "        <path d=\"M19 3H5c-1.1 0-2 .9-2 2v14c0 1.1.9 2 2 2h14c1.1 0 2-.9 2-2V5c0-1.1-.9-2-2-2zM9 17H7v-7h2v7zm4 0h-2V7h2v10zm4 0h-2v-4h2v4z\"/>\n",
              "    </g>\n",
              "</svg>\n",
              "  </button>\n",
              "\n",
              "<style>\n",
              "  .colab-df-quickchart {\n",
              "      --bg-color: #E8F0FE;\n",
              "      --fill-color: #1967D2;\n",
              "      --hover-bg-color: #E2EBFA;\n",
              "      --hover-fill-color: #174EA6;\n",
              "      --disabled-fill-color: #AAA;\n",
              "      --disabled-bg-color: #DDD;\n",
              "  }\n",
              "\n",
              "  [theme=dark] .colab-df-quickchart {\n",
              "      --bg-color: #3B4455;\n",
              "      --fill-color: #D2E3FC;\n",
              "      --hover-bg-color: #434B5C;\n",
              "      --hover-fill-color: #FFFFFF;\n",
              "      --disabled-bg-color: #3B4455;\n",
              "      --disabled-fill-color: #666;\n",
              "  }\n",
              "\n",
              "  .colab-df-quickchart {\n",
              "    background-color: var(--bg-color);\n",
              "    border: none;\n",
              "    border-radius: 50%;\n",
              "    cursor: pointer;\n",
              "    display: none;\n",
              "    fill: var(--fill-color);\n",
              "    height: 32px;\n",
              "    padding: 0;\n",
              "    width: 32px;\n",
              "  }\n",
              "\n",
              "  .colab-df-quickchart:hover {\n",
              "    background-color: var(--hover-bg-color);\n",
              "    box-shadow: 0 1px 2px rgba(60, 64, 67, 0.3), 0 1px 3px 1px rgba(60, 64, 67, 0.15);\n",
              "    fill: var(--button-hover-fill-color);\n",
              "  }\n",
              "\n",
              "  .colab-df-quickchart-complete:disabled,\n",
              "  .colab-df-quickchart-complete:disabled:hover {\n",
              "    background-color: var(--disabled-bg-color);\n",
              "    fill: var(--disabled-fill-color);\n",
              "    box-shadow: none;\n",
              "  }\n",
              "\n",
              "  .colab-df-spinner {\n",
              "    border: 2px solid var(--fill-color);\n",
              "    border-color: transparent;\n",
              "    border-bottom-color: var(--fill-color);\n",
              "    animation:\n",
              "      spin 1s steps(1) infinite;\n",
              "  }\n",
              "\n",
              "  @keyframes spin {\n",
              "    0% {\n",
              "      border-color: transparent;\n",
              "      border-bottom-color: var(--fill-color);\n",
              "      border-left-color: var(--fill-color);\n",
              "    }\n",
              "    20% {\n",
              "      border-color: transparent;\n",
              "      border-left-color: var(--fill-color);\n",
              "      border-top-color: var(--fill-color);\n",
              "    }\n",
              "    30% {\n",
              "      border-color: transparent;\n",
              "      border-left-color: var(--fill-color);\n",
              "      border-top-color: var(--fill-color);\n",
              "      border-right-color: var(--fill-color);\n",
              "    }\n",
              "    40% {\n",
              "      border-color: transparent;\n",
              "      border-right-color: var(--fill-color);\n",
              "      border-top-color: var(--fill-color);\n",
              "    }\n",
              "    60% {\n",
              "      border-color: transparent;\n",
              "      border-right-color: var(--fill-color);\n",
              "    }\n",
              "    80% {\n",
              "      border-color: transparent;\n",
              "      border-right-color: var(--fill-color);\n",
              "      border-bottom-color: var(--fill-color);\n",
              "    }\n",
              "    90% {\n",
              "      border-color: transparent;\n",
              "      border-bottom-color: var(--fill-color);\n",
              "    }\n",
              "  }\n",
              "</style>\n",
              "\n",
              "  <script>\n",
              "    async function quickchart(key) {\n",
              "      const quickchartButtonEl =\n",
              "        document.querySelector('#' + key + ' button');\n",
              "      quickchartButtonEl.disabled = true;  // To prevent multiple clicks.\n",
              "      quickchartButtonEl.classList.add('colab-df-spinner');\n",
              "      try {\n",
              "        const charts = await google.colab.kernel.invokeFunction(\n",
              "            'suggestCharts', [key], {});\n",
              "      } catch (error) {\n",
              "        console.error('Error during call to suggestCharts:', error);\n",
              "      }\n",
              "      quickchartButtonEl.classList.remove('colab-df-spinner');\n",
              "      quickchartButtonEl.classList.add('colab-df-quickchart-complete');\n",
              "    }\n",
              "    (() => {\n",
              "      let quickchartButtonEl =\n",
              "        document.querySelector('#df-4c2bb4c9-f0be-4b18-b535-943588547314 button');\n",
              "      quickchartButtonEl.style.display =\n",
              "        google.colab.kernel.accessAllowed ? 'block' : 'none';\n",
              "    })();\n",
              "  </script>\n",
              "</div>\n",
              "    </div>\n",
              "  </div>\n"
            ]
          },
          "metadata": {},
          "execution_count": 33
        }
      ]
    },
    {
      "cell_type": "code",
      "source": [
        "df.groupby([\"code\",\"walk\"]).mean()"
      ],
      "metadata": {
        "colab": {
          "base_uri": "https://localhost:8080/",
          "height": 582
        },
        "id": "2-gk4lLBx-sD",
        "outputId": "f35aa529-b0a5-4202-af89-de65c22de50a"
      },
      "execution_count": null,
      "outputs": [
        {
          "output_type": "execute_result",
          "data": {
            "text/plain": [
              "               index_1       price      totsp     livesp     kitsp       dist  \\\n",
              "code walk                                                                       \n",
              "1    0      958.764706  112.250000  68.867647  44.176471  8.338235  12.750000   \n",
              "     1     1035.779412  141.799020  73.960784  47.029412  9.333333  10.161765   \n",
              "2    0     1083.357143  104.404762  68.833333  43.309524  8.190476  14.821429   \n",
              "     1     1106.046243  111.751445  67.820809  43.502890  8.052023  13.494220   \n",
              "3    0     1034.339744  120.794872  74.660256  46.891026  9.288462  12.583333   \n",
              "     1      981.936508  170.904762  78.841270  50.613757  9.259259  10.272487   \n",
              "4    0      970.754098  154.196721  77.344262  47.803279  9.721311   8.114754   \n",
              "     1     1015.087838  146.425676  73.628378  47.304054  9.060811   9.851351   \n",
              "5    0     1037.457831  105.024096  73.951807  44.373494  9.795181  12.448193   \n",
              "     1      993.889328  119.308300  76.268775  46.114625  9.776680  11.518972   \n",
              "6    0     1107.608696  109.445652  73.521739  46.369565  8.782609  12.032609   \n",
              "     1     1027.878788  110.254545  68.763636  44.739394  8.084848  10.733333   \n",
              "7    0     1054.050505  106.646465  71.959596  44.818182  8.474747  11.681818   \n",
              "     1      966.496063  120.141732  69.629921  45.267717  7.960630   8.850394   \n",
              "8    0      905.850000  116.200000  67.800000  45.275000  7.875000   9.425000   \n",
              "     1      997.807143  142.614286  73.650000  48.514286  8.703571   8.817857   \n",
              "\n",
              "           metrdist     brick     floor  \n",
              "code walk                                \n",
              "1    0     8.911765  0.205882  0.882353  \n",
              "     1     8.534314  0.382353  0.823529  \n",
              "2    0     7.761905  0.190476  0.690476  \n",
              "     1     7.982659  0.121387  0.751445  \n",
              "3    0     8.641026  0.339744  0.788462  \n",
              "     1     8.169312  0.650794  0.793651  \n",
              "4    0     7.016393  0.163934  0.885246  \n",
              "     1     6.743243  0.398649  0.844595  \n",
              "5    0     7.108434  0.096386  0.819277  \n",
              "     1     8.142292  0.150198  0.818182  \n",
              "6    0     8.586957  0.206522  0.804348  \n",
              "     1     7.593939  0.272727  0.757576  \n",
              "7    0     9.888889  0.111111  0.757576  \n",
              "     1     8.543307  0.496063  0.740157  \n",
              "8    0     7.075000  0.400000  0.800000  \n",
              "     1     8.192857  0.664286  0.707143  "
            ],
            "text/html": [
              "\n",
              "  <div id=\"df-c4121c22-fcce-4352-a383-890c73e5eb13\" class=\"colab-df-container\">\n",
              "    <div>\n",
              "<style scoped>\n",
              "    .dataframe tbody tr th:only-of-type {\n",
              "        vertical-align: middle;\n",
              "    }\n",
              "\n",
              "    .dataframe tbody tr th {\n",
              "        vertical-align: top;\n",
              "    }\n",
              "\n",
              "    .dataframe thead th {\n",
              "        text-align: right;\n",
              "    }\n",
              "</style>\n",
              "<table border=\"1\" class=\"dataframe\">\n",
              "  <thead>\n",
              "    <tr style=\"text-align: right;\">\n",
              "      <th></th>\n",
              "      <th></th>\n",
              "      <th>index_1</th>\n",
              "      <th>price</th>\n",
              "      <th>totsp</th>\n",
              "      <th>livesp</th>\n",
              "      <th>kitsp</th>\n",
              "      <th>dist</th>\n",
              "      <th>metrdist</th>\n",
              "      <th>brick</th>\n",
              "      <th>floor</th>\n",
              "    </tr>\n",
              "    <tr>\n",
              "      <th>code</th>\n",
              "      <th>walk</th>\n",
              "      <th></th>\n",
              "      <th></th>\n",
              "      <th></th>\n",
              "      <th></th>\n",
              "      <th></th>\n",
              "      <th></th>\n",
              "      <th></th>\n",
              "      <th></th>\n",
              "      <th></th>\n",
              "    </tr>\n",
              "  </thead>\n",
              "  <tbody>\n",
              "    <tr>\n",
              "      <th rowspan=\"2\" valign=\"top\">1</th>\n",
              "      <th>0</th>\n",
              "      <td>958.764706</td>\n",
              "      <td>112.250000</td>\n",
              "      <td>68.867647</td>\n",
              "      <td>44.176471</td>\n",
              "      <td>8.338235</td>\n",
              "      <td>12.750000</td>\n",
              "      <td>8.911765</td>\n",
              "      <td>0.205882</td>\n",
              "      <td>0.882353</td>\n",
              "    </tr>\n",
              "    <tr>\n",
              "      <th>1</th>\n",
              "      <td>1035.779412</td>\n",
              "      <td>141.799020</td>\n",
              "      <td>73.960784</td>\n",
              "      <td>47.029412</td>\n",
              "      <td>9.333333</td>\n",
              "      <td>10.161765</td>\n",
              "      <td>8.534314</td>\n",
              "      <td>0.382353</td>\n",
              "      <td>0.823529</td>\n",
              "    </tr>\n",
              "    <tr>\n",
              "      <th rowspan=\"2\" valign=\"top\">2</th>\n",
              "      <th>0</th>\n",
              "      <td>1083.357143</td>\n",
              "      <td>104.404762</td>\n",
              "      <td>68.833333</td>\n",
              "      <td>43.309524</td>\n",
              "      <td>8.190476</td>\n",
              "      <td>14.821429</td>\n",
              "      <td>7.761905</td>\n",
              "      <td>0.190476</td>\n",
              "      <td>0.690476</td>\n",
              "    </tr>\n",
              "    <tr>\n",
              "      <th>1</th>\n",
              "      <td>1106.046243</td>\n",
              "      <td>111.751445</td>\n",
              "      <td>67.820809</td>\n",
              "      <td>43.502890</td>\n",
              "      <td>8.052023</td>\n",
              "      <td>13.494220</td>\n",
              "      <td>7.982659</td>\n",
              "      <td>0.121387</td>\n",
              "      <td>0.751445</td>\n",
              "    </tr>\n",
              "    <tr>\n",
              "      <th rowspan=\"2\" valign=\"top\">3</th>\n",
              "      <th>0</th>\n",
              "      <td>1034.339744</td>\n",
              "      <td>120.794872</td>\n",
              "      <td>74.660256</td>\n",
              "      <td>46.891026</td>\n",
              "      <td>9.288462</td>\n",
              "      <td>12.583333</td>\n",
              "      <td>8.641026</td>\n",
              "      <td>0.339744</td>\n",
              "      <td>0.788462</td>\n",
              "    </tr>\n",
              "    <tr>\n",
              "      <th>1</th>\n",
              "      <td>981.936508</td>\n",
              "      <td>170.904762</td>\n",
              "      <td>78.841270</td>\n",
              "      <td>50.613757</td>\n",
              "      <td>9.259259</td>\n",
              "      <td>10.272487</td>\n",
              "      <td>8.169312</td>\n",
              "      <td>0.650794</td>\n",
              "      <td>0.793651</td>\n",
              "    </tr>\n",
              "    <tr>\n",
              "      <th rowspan=\"2\" valign=\"top\">4</th>\n",
              "      <th>0</th>\n",
              "      <td>970.754098</td>\n",
              "      <td>154.196721</td>\n",
              "      <td>77.344262</td>\n",
              "      <td>47.803279</td>\n",
              "      <td>9.721311</td>\n",
              "      <td>8.114754</td>\n",
              "      <td>7.016393</td>\n",
              "      <td>0.163934</td>\n",
              "      <td>0.885246</td>\n",
              "    </tr>\n",
              "    <tr>\n",
              "      <th>1</th>\n",
              "      <td>1015.087838</td>\n",
              "      <td>146.425676</td>\n",
              "      <td>73.628378</td>\n",
              "      <td>47.304054</td>\n",
              "      <td>9.060811</td>\n",
              "      <td>9.851351</td>\n",
              "      <td>6.743243</td>\n",
              "      <td>0.398649</td>\n",
              "      <td>0.844595</td>\n",
              "    </tr>\n",
              "    <tr>\n",
              "      <th rowspan=\"2\" valign=\"top\">5</th>\n",
              "      <th>0</th>\n",
              "      <td>1037.457831</td>\n",
              "      <td>105.024096</td>\n",
              "      <td>73.951807</td>\n",
              "      <td>44.373494</td>\n",
              "      <td>9.795181</td>\n",
              "      <td>12.448193</td>\n",
              "      <td>7.108434</td>\n",
              "      <td>0.096386</td>\n",
              "      <td>0.819277</td>\n",
              "    </tr>\n",
              "    <tr>\n",
              "      <th>1</th>\n",
              "      <td>993.889328</td>\n",
              "      <td>119.308300</td>\n",
              "      <td>76.268775</td>\n",
              "      <td>46.114625</td>\n",
              "      <td>9.776680</td>\n",
              "      <td>11.518972</td>\n",
              "      <td>8.142292</td>\n",
              "      <td>0.150198</td>\n",
              "      <td>0.818182</td>\n",
              "    </tr>\n",
              "    <tr>\n",
              "      <th rowspan=\"2\" valign=\"top\">6</th>\n",
              "      <th>0</th>\n",
              "      <td>1107.608696</td>\n",
              "      <td>109.445652</td>\n",
              "      <td>73.521739</td>\n",
              "      <td>46.369565</td>\n",
              "      <td>8.782609</td>\n",
              "      <td>12.032609</td>\n",
              "      <td>8.586957</td>\n",
              "      <td>0.206522</td>\n",
              "      <td>0.804348</td>\n",
              "    </tr>\n",
              "    <tr>\n",
              "      <th>1</th>\n",
              "      <td>1027.878788</td>\n",
              "      <td>110.254545</td>\n",
              "      <td>68.763636</td>\n",
              "      <td>44.739394</td>\n",
              "      <td>8.084848</td>\n",
              "      <td>10.733333</td>\n",
              "      <td>7.593939</td>\n",
              "      <td>0.272727</td>\n",
              "      <td>0.757576</td>\n",
              "    </tr>\n",
              "    <tr>\n",
              "      <th rowspan=\"2\" valign=\"top\">7</th>\n",
              "      <th>0</th>\n",
              "      <td>1054.050505</td>\n",
              "      <td>106.646465</td>\n",
              "      <td>71.959596</td>\n",
              "      <td>44.818182</td>\n",
              "      <td>8.474747</td>\n",
              "      <td>11.681818</td>\n",
              "      <td>9.888889</td>\n",
              "      <td>0.111111</td>\n",
              "      <td>0.757576</td>\n",
              "    </tr>\n",
              "    <tr>\n",
              "      <th>1</th>\n",
              "      <td>966.496063</td>\n",
              "      <td>120.141732</td>\n",
              "      <td>69.629921</td>\n",
              "      <td>45.267717</td>\n",
              "      <td>7.960630</td>\n",
              "      <td>8.850394</td>\n",
              "      <td>8.543307</td>\n",
              "      <td>0.496063</td>\n",
              "      <td>0.740157</td>\n",
              "    </tr>\n",
              "    <tr>\n",
              "      <th rowspan=\"2\" valign=\"top\">8</th>\n",
              "      <th>0</th>\n",
              "      <td>905.850000</td>\n",
              "      <td>116.200000</td>\n",
              "      <td>67.800000</td>\n",
              "      <td>45.275000</td>\n",
              "      <td>7.875000</td>\n",
              "      <td>9.425000</td>\n",
              "      <td>7.075000</td>\n",
              "      <td>0.400000</td>\n",
              "      <td>0.800000</td>\n",
              "    </tr>\n",
              "    <tr>\n",
              "      <th>1</th>\n",
              "      <td>997.807143</td>\n",
              "      <td>142.614286</td>\n",
              "      <td>73.650000</td>\n",
              "      <td>48.514286</td>\n",
              "      <td>8.703571</td>\n",
              "      <td>8.817857</td>\n",
              "      <td>8.192857</td>\n",
              "      <td>0.664286</td>\n",
              "      <td>0.707143</td>\n",
              "    </tr>\n",
              "  </tbody>\n",
              "</table>\n",
              "</div>\n",
              "    <div class=\"colab-df-buttons\">\n",
              "\n",
              "  <div class=\"colab-df-container\">\n",
              "    <button class=\"colab-df-convert\" onclick=\"convertToInteractive('df-c4121c22-fcce-4352-a383-890c73e5eb13')\"\n",
              "            title=\"Convert this dataframe to an interactive table.\"\n",
              "            style=\"display:none;\">\n",
              "\n",
              "  <svg xmlns=\"http://www.w3.org/2000/svg\" height=\"24px\" viewBox=\"0 -960 960 960\">\n",
              "    <path d=\"M120-120v-720h720v720H120Zm60-500h600v-160H180v160Zm220 220h160v-160H400v160Zm0 220h160v-160H400v160ZM180-400h160v-160H180v160Zm440 0h160v-160H620v160ZM180-180h160v-160H180v160Zm440 0h160v-160H620v160Z\"/>\n",
              "  </svg>\n",
              "    </button>\n",
              "\n",
              "  <style>\n",
              "    .colab-df-container {\n",
              "      display:flex;\n",
              "      gap: 12px;\n",
              "    }\n",
              "\n",
              "    .colab-df-convert {\n",
              "      background-color: #E8F0FE;\n",
              "      border: none;\n",
              "      border-radius: 50%;\n",
              "      cursor: pointer;\n",
              "      display: none;\n",
              "      fill: #1967D2;\n",
              "      height: 32px;\n",
              "      padding: 0 0 0 0;\n",
              "      width: 32px;\n",
              "    }\n",
              "\n",
              "    .colab-df-convert:hover {\n",
              "      background-color: #E2EBFA;\n",
              "      box-shadow: 0px 1px 2px rgba(60, 64, 67, 0.3), 0px 1px 3px 1px rgba(60, 64, 67, 0.15);\n",
              "      fill: #174EA6;\n",
              "    }\n",
              "\n",
              "    .colab-df-buttons div {\n",
              "      margin-bottom: 4px;\n",
              "    }\n",
              "\n",
              "    [theme=dark] .colab-df-convert {\n",
              "      background-color: #3B4455;\n",
              "      fill: #D2E3FC;\n",
              "    }\n",
              "\n",
              "    [theme=dark] .colab-df-convert:hover {\n",
              "      background-color: #434B5C;\n",
              "      box-shadow: 0px 1px 3px 1px rgba(0, 0, 0, 0.15);\n",
              "      filter: drop-shadow(0px 1px 2px rgba(0, 0, 0, 0.3));\n",
              "      fill: #FFFFFF;\n",
              "    }\n",
              "  </style>\n",
              "\n",
              "    <script>\n",
              "      const buttonEl =\n",
              "        document.querySelector('#df-c4121c22-fcce-4352-a383-890c73e5eb13 button.colab-df-convert');\n",
              "      buttonEl.style.display =\n",
              "        google.colab.kernel.accessAllowed ? 'block' : 'none';\n",
              "\n",
              "      async function convertToInteractive(key) {\n",
              "        const element = document.querySelector('#df-c4121c22-fcce-4352-a383-890c73e5eb13');\n",
              "        const dataTable =\n",
              "          await google.colab.kernel.invokeFunction('convertToInteractive',\n",
              "                                                    [key], {});\n",
              "        if (!dataTable) return;\n",
              "\n",
              "        const docLinkHtml = 'Like what you see? Visit the ' +\n",
              "          '<a target=\"_blank\" href=https://colab.research.google.com/notebooks/data_table.ipynb>data table notebook</a>'\n",
              "          + ' to learn more about interactive tables.';\n",
              "        element.innerHTML = '';\n",
              "        dataTable['output_type'] = 'display_data';\n",
              "        await google.colab.output.renderOutput(dataTable, element);\n",
              "        const docLink = document.createElement('div');\n",
              "        docLink.innerHTML = docLinkHtml;\n",
              "        element.appendChild(docLink);\n",
              "      }\n",
              "    </script>\n",
              "  </div>\n",
              "\n",
              "\n",
              "<div id=\"df-799dea79-8683-4a85-9aff-50276b3c4277\">\n",
              "  <button class=\"colab-df-quickchart\" onclick=\"quickchart('df-799dea79-8683-4a85-9aff-50276b3c4277')\"\n",
              "            title=\"Suggest charts.\"\n",
              "            style=\"display:none;\">\n",
              "\n",
              "<svg xmlns=\"http://www.w3.org/2000/svg\" height=\"24px\"viewBox=\"0 0 24 24\"\n",
              "     width=\"24px\">\n",
              "    <g>\n",
              "        <path d=\"M19 3H5c-1.1 0-2 .9-2 2v14c0 1.1.9 2 2 2h14c1.1 0 2-.9 2-2V5c0-1.1-.9-2-2-2zM9 17H7v-7h2v7zm4 0h-2V7h2v10zm4 0h-2v-4h2v4z\"/>\n",
              "    </g>\n",
              "</svg>\n",
              "  </button>\n",
              "\n",
              "<style>\n",
              "  .colab-df-quickchart {\n",
              "      --bg-color: #E8F0FE;\n",
              "      --fill-color: #1967D2;\n",
              "      --hover-bg-color: #E2EBFA;\n",
              "      --hover-fill-color: #174EA6;\n",
              "      --disabled-fill-color: #AAA;\n",
              "      --disabled-bg-color: #DDD;\n",
              "  }\n",
              "\n",
              "  [theme=dark] .colab-df-quickchart {\n",
              "      --bg-color: #3B4455;\n",
              "      --fill-color: #D2E3FC;\n",
              "      --hover-bg-color: #434B5C;\n",
              "      --hover-fill-color: #FFFFFF;\n",
              "      --disabled-bg-color: #3B4455;\n",
              "      --disabled-fill-color: #666;\n",
              "  }\n",
              "\n",
              "  .colab-df-quickchart {\n",
              "    background-color: var(--bg-color);\n",
              "    border: none;\n",
              "    border-radius: 50%;\n",
              "    cursor: pointer;\n",
              "    display: none;\n",
              "    fill: var(--fill-color);\n",
              "    height: 32px;\n",
              "    padding: 0;\n",
              "    width: 32px;\n",
              "  }\n",
              "\n",
              "  .colab-df-quickchart:hover {\n",
              "    background-color: var(--hover-bg-color);\n",
              "    box-shadow: 0 1px 2px rgba(60, 64, 67, 0.3), 0 1px 3px 1px rgba(60, 64, 67, 0.15);\n",
              "    fill: var(--button-hover-fill-color);\n",
              "  }\n",
              "\n",
              "  .colab-df-quickchart-complete:disabled,\n",
              "  .colab-df-quickchart-complete:disabled:hover {\n",
              "    background-color: var(--disabled-bg-color);\n",
              "    fill: var(--disabled-fill-color);\n",
              "    box-shadow: none;\n",
              "  }\n",
              "\n",
              "  .colab-df-spinner {\n",
              "    border: 2px solid var(--fill-color);\n",
              "    border-color: transparent;\n",
              "    border-bottom-color: var(--fill-color);\n",
              "    animation:\n",
              "      spin 1s steps(1) infinite;\n",
              "  }\n",
              "\n",
              "  @keyframes spin {\n",
              "    0% {\n",
              "      border-color: transparent;\n",
              "      border-bottom-color: var(--fill-color);\n",
              "      border-left-color: var(--fill-color);\n",
              "    }\n",
              "    20% {\n",
              "      border-color: transparent;\n",
              "      border-left-color: var(--fill-color);\n",
              "      border-top-color: var(--fill-color);\n",
              "    }\n",
              "    30% {\n",
              "      border-color: transparent;\n",
              "      border-left-color: var(--fill-color);\n",
              "      border-top-color: var(--fill-color);\n",
              "      border-right-color: var(--fill-color);\n",
              "    }\n",
              "    40% {\n",
              "      border-color: transparent;\n",
              "      border-right-color: var(--fill-color);\n",
              "      border-top-color: var(--fill-color);\n",
              "    }\n",
              "    60% {\n",
              "      border-color: transparent;\n",
              "      border-right-color: var(--fill-color);\n",
              "    }\n",
              "    80% {\n",
              "      border-color: transparent;\n",
              "      border-right-color: var(--fill-color);\n",
              "      border-bottom-color: var(--fill-color);\n",
              "    }\n",
              "    90% {\n",
              "      border-color: transparent;\n",
              "      border-bottom-color: var(--fill-color);\n",
              "    }\n",
              "  }\n",
              "</style>\n",
              "\n",
              "  <script>\n",
              "    async function quickchart(key) {\n",
              "      const quickchartButtonEl =\n",
              "        document.querySelector('#' + key + ' button');\n",
              "      quickchartButtonEl.disabled = true;  // To prevent multiple clicks.\n",
              "      quickchartButtonEl.classList.add('colab-df-spinner');\n",
              "      try {\n",
              "        const charts = await google.colab.kernel.invokeFunction(\n",
              "            'suggestCharts', [key], {});\n",
              "      } catch (error) {\n",
              "        console.error('Error during call to suggestCharts:', error);\n",
              "      }\n",
              "      quickchartButtonEl.classList.remove('colab-df-spinner');\n",
              "      quickchartButtonEl.classList.add('colab-df-quickchart-complete');\n",
              "    }\n",
              "    (() => {\n",
              "      let quickchartButtonEl =\n",
              "        document.querySelector('#df-799dea79-8683-4a85-9aff-50276b3c4277 button');\n",
              "      quickchartButtonEl.style.display =\n",
              "        google.colab.kernel.accessAllowed ? 'block' : 'none';\n",
              "    })();\n",
              "  </script>\n",
              "</div>\n",
              "    </div>\n",
              "  </div>\n"
            ]
          },
          "metadata": {},
          "execution_count": 19
        }
      ]
    },
    {
      "cell_type": "markdown",
      "source": [
        "# Exercise:\n",
        "##1.2 Plot violin plot for disrtribution of \"metrdist\" grouped by code.\n"
      ],
      "metadata": {
        "id": "pmI0RkMldaaj"
      }
    },
    {
      "cell_type": "code",
      "source": [],
      "metadata": {
        "id": "NmwPOheedZsi"
      },
      "execution_count": null,
      "outputs": []
    },
    {
      "cell_type": "markdown",
      "source": [
        " ## 1.3 Find indexes of a flat with price 120?\n"
      ],
      "metadata": {
        "id": "yqQoHRNihJLB"
      }
    },
    {
      "cell_type": "code",
      "source": [],
      "metadata": {
        "id": "13G-0u9Pc-tQ"
      },
      "execution_count": null,
      "outputs": []
    },
    {
      "cell_type": "markdown",
      "source": [
        "Now let us usee Toy example on merge!"
      ],
      "metadata": {
        "id": "m8Cgh-iL1RKB"
      }
    },
    {
      "cell_type": "code",
      "source": [],
      "metadata": {
        "id": "6UarGwoe1Q5n"
      },
      "execution_count": null,
      "outputs": []
    },
    {
      "cell_type": "code",
      "source": [],
      "metadata": {
        "id": "VYCRE_77yVJW"
      },
      "execution_count": null,
      "outputs": []
    },
    {
      "cell_type": "markdown",
      "source": [
        "What to do with Nan values?\n"
      ],
      "metadata": {
        "id": "VUiGgeP2iKeN"
      }
    },
    {
      "cell_type": "code",
      "source": [],
      "metadata": {
        "id": "luxnBJXcGsFX"
      },
      "execution_count": null,
      "outputs": []
    },
    {
      "cell_type": "markdown",
      "source": [
        "New Dataset and exercises"
      ],
      "metadata": {
        "id": "FZboNUWbiMgy"
      }
    },
    {
      "cell_type": "code",
      "source": [
        "import pandas as pd\n",
        "apps = pd.read_csv('googleplaystore.csv')\n",
        "reviews = pd.read_csv('googleplaystore_user_reviews.csv')"
      ],
      "metadata": {
        "id": "iGxCLOCSW-Qb"
      },
      "execution_count": null,
      "outputs": []
    },
    {
      "cell_type": "markdown",
      "source": [
        "Dataset on apps with description"
      ],
      "metadata": {
        "id": "4lIu3CKulDNP"
      }
    },
    {
      "cell_type": "code",
      "source": [
        "apps.head()"
      ],
      "metadata": {
        "colab": {
          "base_uri": "https://localhost:8080/",
          "height": 310
        },
        "id": "MgnTgWEVk5uM",
        "outputId": "8457862b-6a85-473c-9551-e7ed65cbbc78"
      },
      "execution_count": null,
      "outputs": [
        {
          "output_type": "execute_result",
          "data": {
            "text/plain": [
              "                                                 App        Category  Rating  \\\n",
              "0     Photo Editor & Candy Camera & Grid & ScrapBook  ART_AND_DESIGN     4.1   \n",
              "1                                Coloring book moana  ART_AND_DESIGN     3.9   \n",
              "2  U Launcher Lite – FREE Live Cool Themes, Hide ...  ART_AND_DESIGN     4.7   \n",
              "3                              Sketch - Draw & Paint  ART_AND_DESIGN     4.5   \n",
              "4              Pixel Draw - Number Art Coloring Book  ART_AND_DESIGN     4.3   \n",
              "\n",
              "  Reviews  Size     Installs  Type Price Content Rating  \\\n",
              "0     159   19M      10,000+  Free     0       Everyone   \n",
              "1     967   14M     500,000+  Free     0       Everyone   \n",
              "2   87510  8.7M   5,000,000+  Free     0       Everyone   \n",
              "3  215644   25M  50,000,000+  Free     0           Teen   \n",
              "4     967  2.8M     100,000+  Free     0       Everyone   \n",
              "\n",
              "                      Genres      Last Updated         Current Ver  \\\n",
              "0               Art & Design   January 7, 2018               1.0.0   \n",
              "1  Art & Design;Pretend Play  January 15, 2018               2.0.0   \n",
              "2               Art & Design    August 1, 2018               1.2.4   \n",
              "3               Art & Design      June 8, 2018  Varies with device   \n",
              "4    Art & Design;Creativity     June 20, 2018                 1.1   \n",
              "\n",
              "    Android Ver  \n",
              "0  4.0.3 and up  \n",
              "1  4.0.3 and up  \n",
              "2  4.0.3 and up  \n",
              "3    4.2 and up  \n",
              "4    4.4 and up  "
            ],
            "text/html": [
              "\n",
              "  <div id=\"df-7e34eaa7-4a93-4f4d-ac6e-8f8bd85d0245\" class=\"colab-df-container\">\n",
              "    <div>\n",
              "<style scoped>\n",
              "    .dataframe tbody tr th:only-of-type {\n",
              "        vertical-align: middle;\n",
              "    }\n",
              "\n",
              "    .dataframe tbody tr th {\n",
              "        vertical-align: top;\n",
              "    }\n",
              "\n",
              "    .dataframe thead th {\n",
              "        text-align: right;\n",
              "    }\n",
              "</style>\n",
              "<table border=\"1\" class=\"dataframe\">\n",
              "  <thead>\n",
              "    <tr style=\"text-align: right;\">\n",
              "      <th></th>\n",
              "      <th>App</th>\n",
              "      <th>Category</th>\n",
              "      <th>Rating</th>\n",
              "      <th>Reviews</th>\n",
              "      <th>Size</th>\n",
              "      <th>Installs</th>\n",
              "      <th>Type</th>\n",
              "      <th>Price</th>\n",
              "      <th>Content Rating</th>\n",
              "      <th>Genres</th>\n",
              "      <th>Last Updated</th>\n",
              "      <th>Current Ver</th>\n",
              "      <th>Android Ver</th>\n",
              "    </tr>\n",
              "  </thead>\n",
              "  <tbody>\n",
              "    <tr>\n",
              "      <th>0</th>\n",
              "      <td>Photo Editor &amp; Candy Camera &amp; Grid &amp; ScrapBook</td>\n",
              "      <td>ART_AND_DESIGN</td>\n",
              "      <td>4.1</td>\n",
              "      <td>159</td>\n",
              "      <td>19M</td>\n",
              "      <td>10,000+</td>\n",
              "      <td>Free</td>\n",
              "      <td>0</td>\n",
              "      <td>Everyone</td>\n",
              "      <td>Art &amp; Design</td>\n",
              "      <td>January 7, 2018</td>\n",
              "      <td>1.0.0</td>\n",
              "      <td>4.0.3 and up</td>\n",
              "    </tr>\n",
              "    <tr>\n",
              "      <th>1</th>\n",
              "      <td>Coloring book moana</td>\n",
              "      <td>ART_AND_DESIGN</td>\n",
              "      <td>3.9</td>\n",
              "      <td>967</td>\n",
              "      <td>14M</td>\n",
              "      <td>500,000+</td>\n",
              "      <td>Free</td>\n",
              "      <td>0</td>\n",
              "      <td>Everyone</td>\n",
              "      <td>Art &amp; Design;Pretend Play</td>\n",
              "      <td>January 15, 2018</td>\n",
              "      <td>2.0.0</td>\n",
              "      <td>4.0.3 and up</td>\n",
              "    </tr>\n",
              "    <tr>\n",
              "      <th>2</th>\n",
              "      <td>U Launcher Lite – FREE Live Cool Themes, Hide ...</td>\n",
              "      <td>ART_AND_DESIGN</td>\n",
              "      <td>4.7</td>\n",
              "      <td>87510</td>\n",
              "      <td>8.7M</td>\n",
              "      <td>5,000,000+</td>\n",
              "      <td>Free</td>\n",
              "      <td>0</td>\n",
              "      <td>Everyone</td>\n",
              "      <td>Art &amp; Design</td>\n",
              "      <td>August 1, 2018</td>\n",
              "      <td>1.2.4</td>\n",
              "      <td>4.0.3 and up</td>\n",
              "    </tr>\n",
              "    <tr>\n",
              "      <th>3</th>\n",
              "      <td>Sketch - Draw &amp; Paint</td>\n",
              "      <td>ART_AND_DESIGN</td>\n",
              "      <td>4.5</td>\n",
              "      <td>215644</td>\n",
              "      <td>25M</td>\n",
              "      <td>50,000,000+</td>\n",
              "      <td>Free</td>\n",
              "      <td>0</td>\n",
              "      <td>Teen</td>\n",
              "      <td>Art &amp; Design</td>\n",
              "      <td>June 8, 2018</td>\n",
              "      <td>Varies with device</td>\n",
              "      <td>4.2 and up</td>\n",
              "    </tr>\n",
              "    <tr>\n",
              "      <th>4</th>\n",
              "      <td>Pixel Draw - Number Art Coloring Book</td>\n",
              "      <td>ART_AND_DESIGN</td>\n",
              "      <td>4.3</td>\n",
              "      <td>967</td>\n",
              "      <td>2.8M</td>\n",
              "      <td>100,000+</td>\n",
              "      <td>Free</td>\n",
              "      <td>0</td>\n",
              "      <td>Everyone</td>\n",
              "      <td>Art &amp; Design;Creativity</td>\n",
              "      <td>June 20, 2018</td>\n",
              "      <td>1.1</td>\n",
              "      <td>4.4 and up</td>\n",
              "    </tr>\n",
              "  </tbody>\n",
              "</table>\n",
              "</div>\n",
              "    <div class=\"colab-df-buttons\">\n",
              "\n",
              "  <div class=\"colab-df-container\">\n",
              "    <button class=\"colab-df-convert\" onclick=\"convertToInteractive('df-7e34eaa7-4a93-4f4d-ac6e-8f8bd85d0245')\"\n",
              "            title=\"Convert this dataframe to an interactive table.\"\n",
              "            style=\"display:none;\">\n",
              "\n",
              "  <svg xmlns=\"http://www.w3.org/2000/svg\" height=\"24px\" viewBox=\"0 -960 960 960\">\n",
              "    <path d=\"M120-120v-720h720v720H120Zm60-500h600v-160H180v160Zm220 220h160v-160H400v160Zm0 220h160v-160H400v160ZM180-400h160v-160H180v160Zm440 0h160v-160H620v160ZM180-180h160v-160H180v160Zm440 0h160v-160H620v160Z\"/>\n",
              "  </svg>\n",
              "    </button>\n",
              "\n",
              "  <style>\n",
              "    .colab-df-container {\n",
              "      display:flex;\n",
              "      gap: 12px;\n",
              "    }\n",
              "\n",
              "    .colab-df-convert {\n",
              "      background-color: #E8F0FE;\n",
              "      border: none;\n",
              "      border-radius: 50%;\n",
              "      cursor: pointer;\n",
              "      display: none;\n",
              "      fill: #1967D2;\n",
              "      height: 32px;\n",
              "      padding: 0 0 0 0;\n",
              "      width: 32px;\n",
              "    }\n",
              "\n",
              "    .colab-df-convert:hover {\n",
              "      background-color: #E2EBFA;\n",
              "      box-shadow: 0px 1px 2px rgba(60, 64, 67, 0.3), 0px 1px 3px 1px rgba(60, 64, 67, 0.15);\n",
              "      fill: #174EA6;\n",
              "    }\n",
              "\n",
              "    .colab-df-buttons div {\n",
              "      margin-bottom: 4px;\n",
              "    }\n",
              "\n",
              "    [theme=dark] .colab-df-convert {\n",
              "      background-color: #3B4455;\n",
              "      fill: #D2E3FC;\n",
              "    }\n",
              "\n",
              "    [theme=dark] .colab-df-convert:hover {\n",
              "      background-color: #434B5C;\n",
              "      box-shadow: 0px 1px 3px 1px rgba(0, 0, 0, 0.15);\n",
              "      filter: drop-shadow(0px 1px 2px rgba(0, 0, 0, 0.3));\n",
              "      fill: #FFFFFF;\n",
              "    }\n",
              "  </style>\n",
              "\n",
              "    <script>\n",
              "      const buttonEl =\n",
              "        document.querySelector('#df-7e34eaa7-4a93-4f4d-ac6e-8f8bd85d0245 button.colab-df-convert');\n",
              "      buttonEl.style.display =\n",
              "        google.colab.kernel.accessAllowed ? 'block' : 'none';\n",
              "\n",
              "      async function convertToInteractive(key) {\n",
              "        const element = document.querySelector('#df-7e34eaa7-4a93-4f4d-ac6e-8f8bd85d0245');\n",
              "        const dataTable =\n",
              "          await google.colab.kernel.invokeFunction('convertToInteractive',\n",
              "                                                    [key], {});\n",
              "        if (!dataTable) return;\n",
              "\n",
              "        const docLinkHtml = 'Like what you see? Visit the ' +\n",
              "          '<a target=\"_blank\" href=https://colab.research.google.com/notebooks/data_table.ipynb>data table notebook</a>'\n",
              "          + ' to learn more about interactive tables.';\n",
              "        element.innerHTML = '';\n",
              "        dataTable['output_type'] = 'display_data';\n",
              "        await google.colab.output.renderOutput(dataTable, element);\n",
              "        const docLink = document.createElement('div');\n",
              "        docLink.innerHTML = docLinkHtml;\n",
              "        element.appendChild(docLink);\n",
              "      }\n",
              "    </script>\n",
              "  </div>\n",
              "\n",
              "\n",
              "<div id=\"df-5b9bbe7e-df8b-4cb5-bd67-7284511ca781\">\n",
              "  <button class=\"colab-df-quickchart\" onclick=\"quickchart('df-5b9bbe7e-df8b-4cb5-bd67-7284511ca781')\"\n",
              "            title=\"Suggest charts.\"\n",
              "            style=\"display:none;\">\n",
              "\n",
              "<svg xmlns=\"http://www.w3.org/2000/svg\" height=\"24px\"viewBox=\"0 0 24 24\"\n",
              "     width=\"24px\">\n",
              "    <g>\n",
              "        <path d=\"M19 3H5c-1.1 0-2 .9-2 2v14c0 1.1.9 2 2 2h14c1.1 0 2-.9 2-2V5c0-1.1-.9-2-2-2zM9 17H7v-7h2v7zm4 0h-2V7h2v10zm4 0h-2v-4h2v4z\"/>\n",
              "    </g>\n",
              "</svg>\n",
              "  </button>\n",
              "\n",
              "<style>\n",
              "  .colab-df-quickchart {\n",
              "      --bg-color: #E8F0FE;\n",
              "      --fill-color: #1967D2;\n",
              "      --hover-bg-color: #E2EBFA;\n",
              "      --hover-fill-color: #174EA6;\n",
              "      --disabled-fill-color: #AAA;\n",
              "      --disabled-bg-color: #DDD;\n",
              "  }\n",
              "\n",
              "  [theme=dark] .colab-df-quickchart {\n",
              "      --bg-color: #3B4455;\n",
              "      --fill-color: #D2E3FC;\n",
              "      --hover-bg-color: #434B5C;\n",
              "      --hover-fill-color: #FFFFFF;\n",
              "      --disabled-bg-color: #3B4455;\n",
              "      --disabled-fill-color: #666;\n",
              "  }\n",
              "\n",
              "  .colab-df-quickchart {\n",
              "    background-color: var(--bg-color);\n",
              "    border: none;\n",
              "    border-radius: 50%;\n",
              "    cursor: pointer;\n",
              "    display: none;\n",
              "    fill: var(--fill-color);\n",
              "    height: 32px;\n",
              "    padding: 0;\n",
              "    width: 32px;\n",
              "  }\n",
              "\n",
              "  .colab-df-quickchart:hover {\n",
              "    background-color: var(--hover-bg-color);\n",
              "    box-shadow: 0 1px 2px rgba(60, 64, 67, 0.3), 0 1px 3px 1px rgba(60, 64, 67, 0.15);\n",
              "    fill: var(--button-hover-fill-color);\n",
              "  }\n",
              "\n",
              "  .colab-df-quickchart-complete:disabled,\n",
              "  .colab-df-quickchart-complete:disabled:hover {\n",
              "    background-color: var(--disabled-bg-color);\n",
              "    fill: var(--disabled-fill-color);\n",
              "    box-shadow: none;\n",
              "  }\n",
              "\n",
              "  .colab-df-spinner {\n",
              "    border: 2px solid var(--fill-color);\n",
              "    border-color: transparent;\n",
              "    border-bottom-color: var(--fill-color);\n",
              "    animation:\n",
              "      spin 1s steps(1) infinite;\n",
              "  }\n",
              "\n",
              "  @keyframes spin {\n",
              "    0% {\n",
              "      border-color: transparent;\n",
              "      border-bottom-color: var(--fill-color);\n",
              "      border-left-color: var(--fill-color);\n",
              "    }\n",
              "    20% {\n",
              "      border-color: transparent;\n",
              "      border-left-color: var(--fill-color);\n",
              "      border-top-color: var(--fill-color);\n",
              "    }\n",
              "    30% {\n",
              "      border-color: transparent;\n",
              "      border-left-color: var(--fill-color);\n",
              "      border-top-color: var(--fill-color);\n",
              "      border-right-color: var(--fill-color);\n",
              "    }\n",
              "    40% {\n",
              "      border-color: transparent;\n",
              "      border-right-color: var(--fill-color);\n",
              "      border-top-color: var(--fill-color);\n",
              "    }\n",
              "    60% {\n",
              "      border-color: transparent;\n",
              "      border-right-color: var(--fill-color);\n",
              "    }\n",
              "    80% {\n",
              "      border-color: transparent;\n",
              "      border-right-color: var(--fill-color);\n",
              "      border-bottom-color: var(--fill-color);\n",
              "    }\n",
              "    90% {\n",
              "      border-color: transparent;\n",
              "      border-bottom-color: var(--fill-color);\n",
              "    }\n",
              "  }\n",
              "</style>\n",
              "\n",
              "  <script>\n",
              "    async function quickchart(key) {\n",
              "      const quickchartButtonEl =\n",
              "        document.querySelector('#' + key + ' button');\n",
              "      quickchartButtonEl.disabled = true;  // To prevent multiple clicks.\n",
              "      quickchartButtonEl.classList.add('colab-df-spinner');\n",
              "      try {\n",
              "        const charts = await google.colab.kernel.invokeFunction(\n",
              "            'suggestCharts', [key], {});\n",
              "      } catch (error) {\n",
              "        console.error('Error during call to suggestCharts:', error);\n",
              "      }\n",
              "      quickchartButtonEl.classList.remove('colab-df-spinner');\n",
              "      quickchartButtonEl.classList.add('colab-df-quickchart-complete');\n",
              "    }\n",
              "    (() => {\n",
              "      let quickchartButtonEl =\n",
              "        document.querySelector('#df-5b9bbe7e-df8b-4cb5-bd67-7284511ca781 button');\n",
              "      quickchartButtonEl.style.display =\n",
              "        google.colab.kernel.accessAllowed ? 'block' : 'none';\n",
              "    })();\n",
              "  </script>\n",
              "</div>\n",
              "    </div>\n",
              "  </div>\n"
            ]
          },
          "metadata": {},
          "execution_count": 9
        }
      ]
    },
    {
      "cell_type": "markdown",
      "source": [
        "This is dataset on reviews for apps"
      ],
      "metadata": {
        "id": "AeCQWiftk2Md"
      }
    },
    {
      "cell_type": "code",
      "source": [
        "reviews.head()"
      ],
      "metadata": {
        "colab": {
          "base_uri": "https://localhost:8080/",
          "height": 206
        },
        "id": "LMfDGs__kpSl",
        "outputId": "c90c2552-06da-43ad-ccef-8c12598b4764"
      },
      "execution_count": null,
      "outputs": [
        {
          "output_type": "execute_result",
          "data": {
            "text/plain": [
              "                     App                                  Translated_Review  \\\n",
              "0  10 Best Foods for You  I like eat delicious food. That's I'm cooking ...   \n",
              "1  10 Best Foods for You    This help eating healthy exercise regular basis   \n",
              "2  10 Best Foods for You                                                NaN   \n",
              "3  10 Best Foods for You         Works great especially going grocery store   \n",
              "4  10 Best Foods for You                                       Best idea us   \n",
              "\n",
              "  Sentiment  Sentiment_Polarity  Sentiment_Subjectivity  \n",
              "0  Positive                1.00                0.533333  \n",
              "1  Positive                0.25                0.288462  \n",
              "2       NaN                 NaN                     NaN  \n",
              "3  Positive                0.40                0.875000  \n",
              "4  Positive                1.00                0.300000  "
            ],
            "text/html": [
              "\n",
              "  <div id=\"df-e918ecc8-0b52-4ff0-a26e-cf29396ff27c\" class=\"colab-df-container\">\n",
              "    <div>\n",
              "<style scoped>\n",
              "    .dataframe tbody tr th:only-of-type {\n",
              "        vertical-align: middle;\n",
              "    }\n",
              "\n",
              "    .dataframe tbody tr th {\n",
              "        vertical-align: top;\n",
              "    }\n",
              "\n",
              "    .dataframe thead th {\n",
              "        text-align: right;\n",
              "    }\n",
              "</style>\n",
              "<table border=\"1\" class=\"dataframe\">\n",
              "  <thead>\n",
              "    <tr style=\"text-align: right;\">\n",
              "      <th></th>\n",
              "      <th>App</th>\n",
              "      <th>Translated_Review</th>\n",
              "      <th>Sentiment</th>\n",
              "      <th>Sentiment_Polarity</th>\n",
              "      <th>Sentiment_Subjectivity</th>\n",
              "    </tr>\n",
              "  </thead>\n",
              "  <tbody>\n",
              "    <tr>\n",
              "      <th>0</th>\n",
              "      <td>10 Best Foods for You</td>\n",
              "      <td>I like eat delicious food. That's I'm cooking ...</td>\n",
              "      <td>Positive</td>\n",
              "      <td>1.00</td>\n",
              "      <td>0.533333</td>\n",
              "    </tr>\n",
              "    <tr>\n",
              "      <th>1</th>\n",
              "      <td>10 Best Foods for You</td>\n",
              "      <td>This help eating healthy exercise regular basis</td>\n",
              "      <td>Positive</td>\n",
              "      <td>0.25</td>\n",
              "      <td>0.288462</td>\n",
              "    </tr>\n",
              "    <tr>\n",
              "      <th>2</th>\n",
              "      <td>10 Best Foods for You</td>\n",
              "      <td>NaN</td>\n",
              "      <td>NaN</td>\n",
              "      <td>NaN</td>\n",
              "      <td>NaN</td>\n",
              "    </tr>\n",
              "    <tr>\n",
              "      <th>3</th>\n",
              "      <td>10 Best Foods for You</td>\n",
              "      <td>Works great especially going grocery store</td>\n",
              "      <td>Positive</td>\n",
              "      <td>0.40</td>\n",
              "      <td>0.875000</td>\n",
              "    </tr>\n",
              "    <tr>\n",
              "      <th>4</th>\n",
              "      <td>10 Best Foods for You</td>\n",
              "      <td>Best idea us</td>\n",
              "      <td>Positive</td>\n",
              "      <td>1.00</td>\n",
              "      <td>0.300000</td>\n",
              "    </tr>\n",
              "  </tbody>\n",
              "</table>\n",
              "</div>\n",
              "    <div class=\"colab-df-buttons\">\n",
              "\n",
              "  <div class=\"colab-df-container\">\n",
              "    <button class=\"colab-df-convert\" onclick=\"convertToInteractive('df-e918ecc8-0b52-4ff0-a26e-cf29396ff27c')\"\n",
              "            title=\"Convert this dataframe to an interactive table.\"\n",
              "            style=\"display:none;\">\n",
              "\n",
              "  <svg xmlns=\"http://www.w3.org/2000/svg\" height=\"24px\" viewBox=\"0 -960 960 960\">\n",
              "    <path d=\"M120-120v-720h720v720H120Zm60-500h600v-160H180v160Zm220 220h160v-160H400v160Zm0 220h160v-160H400v160ZM180-400h160v-160H180v160Zm440 0h160v-160H620v160ZM180-180h160v-160H180v160Zm440 0h160v-160H620v160Z\"/>\n",
              "  </svg>\n",
              "    </button>\n",
              "\n",
              "  <style>\n",
              "    .colab-df-container {\n",
              "      display:flex;\n",
              "      gap: 12px;\n",
              "    }\n",
              "\n",
              "    .colab-df-convert {\n",
              "      background-color: #E8F0FE;\n",
              "      border: none;\n",
              "      border-radius: 50%;\n",
              "      cursor: pointer;\n",
              "      display: none;\n",
              "      fill: #1967D2;\n",
              "      height: 32px;\n",
              "      padding: 0 0 0 0;\n",
              "      width: 32px;\n",
              "    }\n",
              "\n",
              "    .colab-df-convert:hover {\n",
              "      background-color: #E2EBFA;\n",
              "      box-shadow: 0px 1px 2px rgba(60, 64, 67, 0.3), 0px 1px 3px 1px rgba(60, 64, 67, 0.15);\n",
              "      fill: #174EA6;\n",
              "    }\n",
              "\n",
              "    .colab-df-buttons div {\n",
              "      margin-bottom: 4px;\n",
              "    }\n",
              "\n",
              "    [theme=dark] .colab-df-convert {\n",
              "      background-color: #3B4455;\n",
              "      fill: #D2E3FC;\n",
              "    }\n",
              "\n",
              "    [theme=dark] .colab-df-convert:hover {\n",
              "      background-color: #434B5C;\n",
              "      box-shadow: 0px 1px 3px 1px rgba(0, 0, 0, 0.15);\n",
              "      filter: drop-shadow(0px 1px 2px rgba(0, 0, 0, 0.3));\n",
              "      fill: #FFFFFF;\n",
              "    }\n",
              "  </style>\n",
              "\n",
              "    <script>\n",
              "      const buttonEl =\n",
              "        document.querySelector('#df-e918ecc8-0b52-4ff0-a26e-cf29396ff27c button.colab-df-convert');\n",
              "      buttonEl.style.display =\n",
              "        google.colab.kernel.accessAllowed ? 'block' : 'none';\n",
              "\n",
              "      async function convertToInteractive(key) {\n",
              "        const element = document.querySelector('#df-e918ecc8-0b52-4ff0-a26e-cf29396ff27c');\n",
              "        const dataTable =\n",
              "          await google.colab.kernel.invokeFunction('convertToInteractive',\n",
              "                                                    [key], {});\n",
              "        if (!dataTable) return;\n",
              "\n",
              "        const docLinkHtml = 'Like what you see? Visit the ' +\n",
              "          '<a target=\"_blank\" href=https://colab.research.google.com/notebooks/data_table.ipynb>data table notebook</a>'\n",
              "          + ' to learn more about interactive tables.';\n",
              "        element.innerHTML = '';\n",
              "        dataTable['output_type'] = 'display_data';\n",
              "        await google.colab.output.renderOutput(dataTable, element);\n",
              "        const docLink = document.createElement('div');\n",
              "        docLink.innerHTML = docLinkHtml;\n",
              "        element.appendChild(docLink);\n",
              "      }\n",
              "    </script>\n",
              "  </div>\n",
              "\n",
              "\n",
              "<div id=\"df-3f7f5ade-67a5-4070-83ff-ff720689ef9a\">\n",
              "  <button class=\"colab-df-quickchart\" onclick=\"quickchart('df-3f7f5ade-67a5-4070-83ff-ff720689ef9a')\"\n",
              "            title=\"Suggest charts.\"\n",
              "            style=\"display:none;\">\n",
              "\n",
              "<svg xmlns=\"http://www.w3.org/2000/svg\" height=\"24px\"viewBox=\"0 0 24 24\"\n",
              "     width=\"24px\">\n",
              "    <g>\n",
              "        <path d=\"M19 3H5c-1.1 0-2 .9-2 2v14c0 1.1.9 2 2 2h14c1.1 0 2-.9 2-2V5c0-1.1-.9-2-2-2zM9 17H7v-7h2v7zm4 0h-2V7h2v10zm4 0h-2v-4h2v4z\"/>\n",
              "    </g>\n",
              "</svg>\n",
              "  </button>\n",
              "\n",
              "<style>\n",
              "  .colab-df-quickchart {\n",
              "      --bg-color: #E8F0FE;\n",
              "      --fill-color: #1967D2;\n",
              "      --hover-bg-color: #E2EBFA;\n",
              "      --hover-fill-color: #174EA6;\n",
              "      --disabled-fill-color: #AAA;\n",
              "      --disabled-bg-color: #DDD;\n",
              "  }\n",
              "\n",
              "  [theme=dark] .colab-df-quickchart {\n",
              "      --bg-color: #3B4455;\n",
              "      --fill-color: #D2E3FC;\n",
              "      --hover-bg-color: #434B5C;\n",
              "      --hover-fill-color: #FFFFFF;\n",
              "      --disabled-bg-color: #3B4455;\n",
              "      --disabled-fill-color: #666;\n",
              "  }\n",
              "\n",
              "  .colab-df-quickchart {\n",
              "    background-color: var(--bg-color);\n",
              "    border: none;\n",
              "    border-radius: 50%;\n",
              "    cursor: pointer;\n",
              "    display: none;\n",
              "    fill: var(--fill-color);\n",
              "    height: 32px;\n",
              "    padding: 0;\n",
              "    width: 32px;\n",
              "  }\n",
              "\n",
              "  .colab-df-quickchart:hover {\n",
              "    background-color: var(--hover-bg-color);\n",
              "    box-shadow: 0 1px 2px rgba(60, 64, 67, 0.3), 0 1px 3px 1px rgba(60, 64, 67, 0.15);\n",
              "    fill: var(--button-hover-fill-color);\n",
              "  }\n",
              "\n",
              "  .colab-df-quickchart-complete:disabled,\n",
              "  .colab-df-quickchart-complete:disabled:hover {\n",
              "    background-color: var(--disabled-bg-color);\n",
              "    fill: var(--disabled-fill-color);\n",
              "    box-shadow: none;\n",
              "  }\n",
              "\n",
              "  .colab-df-spinner {\n",
              "    border: 2px solid var(--fill-color);\n",
              "    border-color: transparent;\n",
              "    border-bottom-color: var(--fill-color);\n",
              "    animation:\n",
              "      spin 1s steps(1) infinite;\n",
              "  }\n",
              "\n",
              "  @keyframes spin {\n",
              "    0% {\n",
              "      border-color: transparent;\n",
              "      border-bottom-color: var(--fill-color);\n",
              "      border-left-color: var(--fill-color);\n",
              "    }\n",
              "    20% {\n",
              "      border-color: transparent;\n",
              "      border-left-color: var(--fill-color);\n",
              "      border-top-color: var(--fill-color);\n",
              "    }\n",
              "    30% {\n",
              "      border-color: transparent;\n",
              "      border-left-color: var(--fill-color);\n",
              "      border-top-color: var(--fill-color);\n",
              "      border-right-color: var(--fill-color);\n",
              "    }\n",
              "    40% {\n",
              "      border-color: transparent;\n",
              "      border-right-color: var(--fill-color);\n",
              "      border-top-color: var(--fill-color);\n",
              "    }\n",
              "    60% {\n",
              "      border-color: transparent;\n",
              "      border-right-color: var(--fill-color);\n",
              "    }\n",
              "    80% {\n",
              "      border-color: transparent;\n",
              "      border-right-color: var(--fill-color);\n",
              "      border-bottom-color: var(--fill-color);\n",
              "    }\n",
              "    90% {\n",
              "      border-color: transparent;\n",
              "      border-bottom-color: var(--fill-color);\n",
              "    }\n",
              "  }\n",
              "</style>\n",
              "\n",
              "  <script>\n",
              "    async function quickchart(key) {\n",
              "      const quickchartButtonEl =\n",
              "        document.querySelector('#' + key + ' button');\n",
              "      quickchartButtonEl.disabled = true;  // To prevent multiple clicks.\n",
              "      quickchartButtonEl.classList.add('colab-df-spinner');\n",
              "      try {\n",
              "        const charts = await google.colab.kernel.invokeFunction(\n",
              "            'suggestCharts', [key], {});\n",
              "      } catch (error) {\n",
              "        console.error('Error during call to suggestCharts:', error);\n",
              "      }\n",
              "      quickchartButtonEl.classList.remove('colab-df-spinner');\n",
              "      quickchartButtonEl.classList.add('colab-df-quickchart-complete');\n",
              "    }\n",
              "    (() => {\n",
              "      let quickchartButtonEl =\n",
              "        document.querySelector('#df-3f7f5ade-67a5-4070-83ff-ff720689ef9a button');\n",
              "      quickchartButtonEl.style.display =\n",
              "        google.colab.kernel.accessAllowed ? 'block' : 'none';\n",
              "    })();\n",
              "  </script>\n",
              "</div>\n",
              "    </div>\n",
              "  </div>\n"
            ]
          },
          "metadata": {},
          "execution_count": 8
        }
      ]
    },
    {
      "cell_type": "markdown",
      "source": [
        "# Exercises on this dataset\n",
        "\n",
        "\n",
        "1.   Print the name of the app with lowest Rating\n",
        "2.   Print the name of the app with maximum Rating\n",
        "\n"
      ],
      "metadata": {
        "id": "RMwqmGxxllDZ"
      }
    },
    {
      "cell_type": "code",
      "source": [
        "#your code here"
      ],
      "metadata": {
        "id": "UE8bkw2wny52"
      },
      "execution_count": null,
      "outputs": []
    },
    {
      "cell_type": "markdown",
      "source": [
        "3. Print average rating of Free and Paid apps\n",
        "\n",
        "Hint: use groupby by variable Type"
      ],
      "metadata": {
        "id": "MRkmETH1mf7B"
      }
    },
    {
      "cell_type": "code",
      "source": [
        "#your code here"
      ],
      "metadata": {
        "id": "fEBN4Vl5nv-s"
      },
      "execution_count": null,
      "outputs": []
    },
    {
      "cell_type": "markdown",
      "source": [
        "4. Print average rating grouped by Installs variable"
      ],
      "metadata": {
        "id": "ovxgG84-nJw5"
      }
    },
    {
      "cell_type": "code",
      "source": [
        "#your code here"
      ],
      "metadata": {
        "id": "I5qIdwNOmGE_"
      },
      "execution_count": null,
      "outputs": []
    },
    {
      "cell_type": "markdown",
      "source": [
        "5.  Find and Print most reviewed category(max number of Reviews)\n"
      ],
      "metadata": {
        "id": "lCf3-M0BoNAj"
      }
    },
    {
      "cell_type": "code",
      "source": [
        "#your code here"
      ],
      "metadata": {
        "id": "YMz3I9YJpIiJ"
      },
      "execution_count": null,
      "outputs": []
    },
    {
      "cell_type": "markdown",
      "source": [
        "6. Print an app with highest rating that belongs to  most reviewed category"
      ],
      "metadata": {
        "id": "X6ZTftPSotcm"
      }
    },
    {
      "cell_type": "code",
      "source": [
        "#your code here"
      ],
      "metadata": {
        "id": "q19oq53PomiZ"
      },
      "execution_count": null,
      "outputs": []
    },
    {
      "cell_type": "markdown",
      "source": [
        "## Now let us learn how to merge datasets:"
      ],
      "metadata": {
        "id": "RzI0qA1qpXUD"
      }
    },
    {
      "cell_type": "markdown",
      "source": [
        "![Памятка по Pandas 3 copy.jpg](data:image/jpeg;base64,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)"
      ],
      "metadata": {
        "id": "O_RtpNqxppsv"
      }
    },
    {
      "cell_type": "code",
      "source": [
        "merged_table = reviews.merge(apps, on=\"App\", how=\"inner\")\n",
        "merged_table.head(2)"
      ],
      "metadata": {
        "colab": {
          "base_uri": "https://localhost:8080/",
          "height": 288
        },
        "id": "u3gzXub4pHNw",
        "outputId": "9a39dbb8-72bf-4175-ce7b-7e3ac9ab94b5"
      },
      "execution_count": null,
      "outputs": [
        {
          "output_type": "execute_result",
          "data": {
            "text/plain": [
              "                     App                                  Translated_Review  \\\n",
              "0  10 Best Foods for You  I like eat delicious food. That's I'm cooking ...   \n",
              "1  10 Best Foods for You  I like eat delicious food. That's I'm cooking ...   \n",
              "\n",
              "  Sentiment  Sentiment_Polarity  Sentiment_Subjectivity            Category  \\\n",
              "0  Positive                 1.0                0.533333  HEALTH_AND_FITNESS   \n",
              "1  Positive                 1.0                0.533333  HEALTH_AND_FITNESS   \n",
              "\n",
              "   Rating Reviews  Size  Installs  Type Price Content Rating  \\\n",
              "0     4.0    2490  3.8M  500,000+  Free     0   Everyone 10+   \n",
              "1     4.0    2490  3.8M  500,000+  Free     0   Everyone 10+   \n",
              "\n",
              "             Genres       Last Updated Current Ver   Android Ver  \n",
              "0  Health & Fitness  February 17, 2017         1.9  2.3.3 and up  \n",
              "1  Health & Fitness  February 17, 2017         1.9  2.3.3 and up  "
            ],
            "text/html": [
              "\n",
              "  <div id=\"df-4893998f-6083-4dd2-8ca2-ff28159d7817\" class=\"colab-df-container\">\n",
              "    <div>\n",
              "<style scoped>\n",
              "    .dataframe tbody tr th:only-of-type {\n",
              "        vertical-align: middle;\n",
              "    }\n",
              "\n",
              "    .dataframe tbody tr th {\n",
              "        vertical-align: top;\n",
              "    }\n",
              "\n",
              "    .dataframe thead th {\n",
              "        text-align: right;\n",
              "    }\n",
              "</style>\n",
              "<table border=\"1\" class=\"dataframe\">\n",
              "  <thead>\n",
              "    <tr style=\"text-align: right;\">\n",
              "      <th></th>\n",
              "      <th>App</th>\n",
              "      <th>Translated_Review</th>\n",
              "      <th>Sentiment</th>\n",
              "      <th>Sentiment_Polarity</th>\n",
              "      <th>Sentiment_Subjectivity</th>\n",
              "      <th>Category</th>\n",
              "      <th>Rating</th>\n",
              "      <th>Reviews</th>\n",
              "      <th>Size</th>\n",
              "      <th>Installs</th>\n",
              "      <th>Type</th>\n",
              "      <th>Price</th>\n",
              "      <th>Content Rating</th>\n",
              "      <th>Genres</th>\n",
              "      <th>Last Updated</th>\n",
              "      <th>Current Ver</th>\n",
              "      <th>Android Ver</th>\n",
              "    </tr>\n",
              "  </thead>\n",
              "  <tbody>\n",
              "    <tr>\n",
              "      <th>0</th>\n",
              "      <td>10 Best Foods for You</td>\n",
              "      <td>I like eat delicious food. That's I'm cooking ...</td>\n",
              "      <td>Positive</td>\n",
              "      <td>1.0</td>\n",
              "      <td>0.533333</td>\n",
              "      <td>HEALTH_AND_FITNESS</td>\n",
              "      <td>4.0</td>\n",
              "      <td>2490</td>\n",
              "      <td>3.8M</td>\n",
              "      <td>500,000+</td>\n",
              "      <td>Free</td>\n",
              "      <td>0</td>\n",
              "      <td>Everyone 10+</td>\n",
              "      <td>Health &amp; Fitness</td>\n",
              "      <td>February 17, 2017</td>\n",
              "      <td>1.9</td>\n",
              "      <td>2.3.3 and up</td>\n",
              "    </tr>\n",
              "    <tr>\n",
              "      <th>1</th>\n",
              "      <td>10 Best Foods for You</td>\n",
              "      <td>I like eat delicious food. That's I'm cooking ...</td>\n",
              "      <td>Positive</td>\n",
              "      <td>1.0</td>\n",
              "      <td>0.533333</td>\n",
              "      <td>HEALTH_AND_FITNESS</td>\n",
              "      <td>4.0</td>\n",
              "      <td>2490</td>\n",
              "      <td>3.8M</td>\n",
              "      <td>500,000+</td>\n",
              "      <td>Free</td>\n",
              "      <td>0</td>\n",
              "      <td>Everyone 10+</td>\n",
              "      <td>Health &amp; Fitness</td>\n",
              "      <td>February 17, 2017</td>\n",
              "      <td>1.9</td>\n",
              "      <td>2.3.3 and up</td>\n",
              "    </tr>\n",
              "  </tbody>\n",
              "</table>\n",
              "</div>\n",
              "    <div class=\"colab-df-buttons\">\n",
              "\n",
              "  <div class=\"colab-df-container\">\n",
              "    <button class=\"colab-df-convert\" onclick=\"convertToInteractive('df-4893998f-6083-4dd2-8ca2-ff28159d7817')\"\n",
              "            title=\"Convert this dataframe to an interactive table.\"\n",
              "            style=\"display:none;\">\n",
              "\n",
              "  <svg xmlns=\"http://www.w3.org/2000/svg\" height=\"24px\" viewBox=\"0 -960 960 960\">\n",
              "    <path d=\"M120-120v-720h720v720H120Zm60-500h600v-160H180v160Zm220 220h160v-160H400v160Zm0 220h160v-160H400v160ZM180-400h160v-160H180v160Zm440 0h160v-160H620v160ZM180-180h160v-160H180v160Zm440 0h160v-160H620v160Z\"/>\n",
              "  </svg>\n",
              "    </button>\n",
              "\n",
              "  <style>\n",
              "    .colab-df-container {\n",
              "      display:flex;\n",
              "      gap: 12px;\n",
              "    }\n",
              "\n",
              "    .colab-df-convert {\n",
              "      background-color: #E8F0FE;\n",
              "      border: none;\n",
              "      border-radius: 50%;\n",
              "      cursor: pointer;\n",
              "      display: none;\n",
              "      fill: #1967D2;\n",
              "      height: 32px;\n",
              "      padding: 0 0 0 0;\n",
              "      width: 32px;\n",
              "    }\n",
              "\n",
              "    .colab-df-convert:hover {\n",
              "      background-color: #E2EBFA;\n",
              "      box-shadow: 0px 1px 2px rgba(60, 64, 67, 0.3), 0px 1px 3px 1px rgba(60, 64, 67, 0.15);\n",
              "      fill: #174EA6;\n",
              "    }\n",
              "\n",
              "    .colab-df-buttons div {\n",
              "      margin-bottom: 4px;\n",
              "    }\n",
              "\n",
              "    [theme=dark] .colab-df-convert {\n",
              "      background-color: #3B4455;\n",
              "      fill: #D2E3FC;\n",
              "    }\n",
              "\n",
              "    [theme=dark] .colab-df-convert:hover {\n",
              "      background-color: #434B5C;\n",
              "      box-shadow: 0px 1px 3px 1px rgba(0, 0, 0, 0.15);\n",
              "      filter: drop-shadow(0px 1px 2px rgba(0, 0, 0, 0.3));\n",
              "      fill: #FFFFFF;\n",
              "    }\n",
              "  </style>\n",
              "\n",
              "    <script>\n",
              "      const buttonEl =\n",
              "        document.querySelector('#df-4893998f-6083-4dd2-8ca2-ff28159d7817 button.colab-df-convert');\n",
              "      buttonEl.style.display =\n",
              "        google.colab.kernel.accessAllowed ? 'block' : 'none';\n",
              "\n",
              "      async function convertToInteractive(key) {\n",
              "        const element = document.querySelector('#df-4893998f-6083-4dd2-8ca2-ff28159d7817');\n",
              "        const dataTable =\n",
              "          await google.colab.kernel.invokeFunction('convertToInteractive',\n",
              "                                                    [key], {});\n",
              "        if (!dataTable) return;\n",
              "\n",
              "        const docLinkHtml = 'Like what you see? Visit the ' +\n",
              "          '<a target=\"_blank\" href=https://colab.research.google.com/notebooks/data_table.ipynb>data table notebook</a>'\n",
              "          + ' to learn more about interactive tables.';\n",
              "        element.innerHTML = '';\n",
              "        dataTable['output_type'] = 'display_data';\n",
              "        await google.colab.output.renderOutput(dataTable, element);\n",
              "        const docLink = document.createElement('div');\n",
              "        docLink.innerHTML = docLinkHtml;\n",
              "        element.appendChild(docLink);\n",
              "      }\n",
              "    </script>\n",
              "  </div>\n",
              "\n",
              "\n",
              "<div id=\"df-5545d117-2552-4069-b1de-54c841f6caff\">\n",
              "  <button class=\"colab-df-quickchart\" onclick=\"quickchart('df-5545d117-2552-4069-b1de-54c841f6caff')\"\n",
              "            title=\"Suggest charts.\"\n",
              "            style=\"display:none;\">\n",
              "\n",
              "<svg xmlns=\"http://www.w3.org/2000/svg\" height=\"24px\"viewBox=\"0 0 24 24\"\n",
              "     width=\"24px\">\n",
              "    <g>\n",
              "        <path d=\"M19 3H5c-1.1 0-2 .9-2 2v14c0 1.1.9 2 2 2h14c1.1 0 2-.9 2-2V5c0-1.1-.9-2-2-2zM9 17H7v-7h2v7zm4 0h-2V7h2v10zm4 0h-2v-4h2v4z\"/>\n",
              "    </g>\n",
              "</svg>\n",
              "  </button>\n",
              "\n",
              "<style>\n",
              "  .colab-df-quickchart {\n",
              "      --bg-color: #E8F0FE;\n",
              "      --fill-color: #1967D2;\n",
              "      --hover-bg-color: #E2EBFA;\n",
              "      --hover-fill-color: #174EA6;\n",
              "      --disabled-fill-color: #AAA;\n",
              "      --disabled-bg-color: #DDD;\n",
              "  }\n",
              "\n",
              "  [theme=dark] .colab-df-quickchart {\n",
              "      --bg-color: #3B4455;\n",
              "      --fill-color: #D2E3FC;\n",
              "      --hover-bg-color: #434B5C;\n",
              "      --hover-fill-color: #FFFFFF;\n",
              "      --disabled-bg-color: #3B4455;\n",
              "      --disabled-fill-color: #666;\n",
              "  }\n",
              "\n",
              "  .colab-df-quickchart {\n",
              "    background-color: var(--bg-color);\n",
              "    border: none;\n",
              "    border-radius: 50%;\n",
              "    cursor: pointer;\n",
              "    display: none;\n",
              "    fill: var(--fill-color);\n",
              "    height: 32px;\n",
              "    padding: 0;\n",
              "    width: 32px;\n",
              "  }\n",
              "\n",
              "  .colab-df-quickchart:hover {\n",
              "    background-color: var(--hover-bg-color);\n",
              "    box-shadow: 0 1px 2px rgba(60, 64, 67, 0.3), 0 1px 3px 1px rgba(60, 64, 67, 0.15);\n",
              "    fill: var(--button-hover-fill-color);\n",
              "  }\n",
              "\n",
              "  .colab-df-quickchart-complete:disabled,\n",
              "  .colab-df-quickchart-complete:disabled:hover {\n",
              "    background-color: var(--disabled-bg-color);\n",
              "    fill: var(--disabled-fill-color);\n",
              "    box-shadow: none;\n",
              "  }\n",
              "\n",
              "  .colab-df-spinner {\n",
              "    border: 2px solid var(--fill-color);\n",
              "    border-color: transparent;\n",
              "    border-bottom-color: var(--fill-color);\n",
              "    animation:\n",
              "      spin 1s steps(1) infinite;\n",
              "  }\n",
              "\n",
              "  @keyframes spin {\n",
              "    0% {\n",
              "      border-color: transparent;\n",
              "      border-bottom-color: var(--fill-color);\n",
              "      border-left-color: var(--fill-color);\n",
              "    }\n",
              "    20% {\n",
              "      border-color: transparent;\n",
              "      border-left-color: var(--fill-color);\n",
              "      border-top-color: var(--fill-color);\n",
              "    }\n",
              "    30% {\n",
              "      border-color: transparent;\n",
              "      border-left-color: var(--fill-color);\n",
              "      border-top-color: var(--fill-color);\n",
              "      border-right-color: var(--fill-color);\n",
              "    }\n",
              "    40% {\n",
              "      border-color: transparent;\n",
              "      border-right-color: var(--fill-color);\n",
              "      border-top-color: var(--fill-color);\n",
              "    }\n",
              "    60% {\n",
              "      border-color: transparent;\n",
              "      border-right-color: var(--fill-color);\n",
              "    }\n",
              "    80% {\n",
              "      border-color: transparent;\n",
              "      border-right-color: var(--fill-color);\n",
              "      border-bottom-color: var(--fill-color);\n",
              "    }\n",
              "    90% {\n",
              "      border-color: transparent;\n",
              "      border-bottom-color: var(--fill-color);\n",
              "    }\n",
              "  }\n",
              "</style>\n",
              "\n",
              "  <script>\n",
              "    async function quickchart(key) {\n",
              "      const quickchartButtonEl =\n",
              "        document.querySelector('#' + key + ' button');\n",
              "      quickchartButtonEl.disabled = true;  // To prevent multiple clicks.\n",
              "      quickchartButtonEl.classList.add('colab-df-spinner');\n",
              "      try {\n",
              "        const charts = await google.colab.kernel.invokeFunction(\n",
              "            'suggestCharts', [key], {});\n",
              "      } catch (error) {\n",
              "        console.error('Error during call to suggestCharts:', error);\n",
              "      }\n",
              "      quickchartButtonEl.classList.remove('colab-df-spinner');\n",
              "      quickchartButtonEl.classList.add('colab-df-quickchart-complete');\n",
              "    }\n",
              "    (() => {\n",
              "      let quickchartButtonEl =\n",
              "        document.querySelector('#df-5545d117-2552-4069-b1de-54c841f6caff button');\n",
              "      quickchartButtonEl.style.display =\n",
              "        google.colab.kernel.accessAllowed ? 'block' : 'none';\n",
              "    })();\n",
              "  </script>\n",
              "</div>\n",
              "    </div>\n",
              "  </div>\n"
            ]
          },
          "metadata": {},
          "execution_count": 11
        }
      ]
    },
    {
      "cell_type": "markdown",
      "source": [
        "We can use also sortings here to print category with reviews with highest Sentiment_Subjectivity"
      ],
      "metadata": {
        "id": "XY8EqVa8qzvJ"
      }
    },
    {
      "cell_type": "code",
      "source": [
        "(\n",
        "    merged_table[[\"Category\", \"Sentiment_Subjectivity\"]]\n",
        "    .groupby(\"Category\")\n",
        "    .mean()\n",
        "    .sort_values(\"Sentiment_Subjectivity\", ascending=False)\n",
        "    .head(1)\n",
        ")"
      ],
      "metadata": {
        "colab": {
          "base_uri": "https://localhost:8080/",
          "height": 112
        },
        "id": "UJuxydbmq3FJ",
        "outputId": "62dc9aaf-0def-4249-f413-86a2a4535bb8"
      },
      "execution_count": null,
      "outputs": [
        {
          "output_type": "execute_result",
          "data": {
            "text/plain": [
              "          Sentiment_Subjectivity\n",
              "Category                        \n",
              "COMICS                  0.579079"
            ],
            "text/html": [
              "\n",
              "  <div id=\"df-b439c6d1-ffd6-412c-be28-b6a5ded15d74\" class=\"colab-df-container\">\n",
              "    <div>\n",
              "<style scoped>\n",
              "    .dataframe tbody tr th:only-of-type {\n",
              "        vertical-align: middle;\n",
              "    }\n",
              "\n",
              "    .dataframe tbody tr th {\n",
              "        vertical-align: top;\n",
              "    }\n",
              "\n",
              "    .dataframe thead th {\n",
              "        text-align: right;\n",
              "    }\n",
              "</style>\n",
              "<table border=\"1\" class=\"dataframe\">\n",
              "  <thead>\n",
              "    <tr style=\"text-align: right;\">\n",
              "      <th></th>\n",
              "      <th>Sentiment_Subjectivity</th>\n",
              "    </tr>\n",
              "    <tr>\n",
              "      <th>Category</th>\n",
              "      <th></th>\n",
              "    </tr>\n",
              "  </thead>\n",
              "  <tbody>\n",
              "    <tr>\n",
              "      <th>COMICS</th>\n",
              "      <td>0.579079</td>\n",
              "    </tr>\n",
              "  </tbody>\n",
              "</table>\n",
              "</div>\n",
              "    <div class=\"colab-df-buttons\">\n",
              "\n",
              "  <div class=\"colab-df-container\">\n",
              "    <button class=\"colab-df-convert\" onclick=\"convertToInteractive('df-b439c6d1-ffd6-412c-be28-b6a5ded15d74')\"\n",
              "            title=\"Convert this dataframe to an interactive table.\"\n",
              "            style=\"display:none;\">\n",
              "\n",
              "  <svg xmlns=\"http://www.w3.org/2000/svg\" height=\"24px\" viewBox=\"0 -960 960 960\">\n",
              "    <path d=\"M120-120v-720h720v720H120Zm60-500h600v-160H180v160Zm220 220h160v-160H400v160Zm0 220h160v-160H400v160ZM180-400h160v-160H180v160Zm440 0h160v-160H620v160ZM180-180h160v-160H180v160Zm440 0h160v-160H620v160Z\"/>\n",
              "  </svg>\n",
              "    </button>\n",
              "\n",
              "  <style>\n",
              "    .colab-df-container {\n",
              "      display:flex;\n",
              "      gap: 12px;\n",
              "    }\n",
              "\n",
              "    .colab-df-convert {\n",
              "      background-color: #E8F0FE;\n",
              "      border: none;\n",
              "      border-radius: 50%;\n",
              "      cursor: pointer;\n",
              "      display: none;\n",
              "      fill: #1967D2;\n",
              "      height: 32px;\n",
              "      padding: 0 0 0 0;\n",
              "      width: 32px;\n",
              "    }\n",
              "\n",
              "    .colab-df-convert:hover {\n",
              "      background-color: #E2EBFA;\n",
              "      box-shadow: 0px 1px 2px rgba(60, 64, 67, 0.3), 0px 1px 3px 1px rgba(60, 64, 67, 0.15);\n",
              "      fill: #174EA6;\n",
              "    }\n",
              "\n",
              "    .colab-df-buttons div {\n",
              "      margin-bottom: 4px;\n",
              "    }\n",
              "\n",
              "    [theme=dark] .colab-df-convert {\n",
              "      background-color: #3B4455;\n",
              "      fill: #D2E3FC;\n",
              "    }\n",
              "\n",
              "    [theme=dark] .colab-df-convert:hover {\n",
              "      background-color: #434B5C;\n",
              "      box-shadow: 0px 1px 3px 1px rgba(0, 0, 0, 0.15);\n",
              "      filter: drop-shadow(0px 1px 2px rgba(0, 0, 0, 0.3));\n",
              "      fill: #FFFFFF;\n",
              "    }\n",
              "  </style>\n",
              "\n",
              "    <script>\n",
              "      const buttonEl =\n",
              "        document.querySelector('#df-b439c6d1-ffd6-412c-be28-b6a5ded15d74 button.colab-df-convert');\n",
              "      buttonEl.style.display =\n",
              "        google.colab.kernel.accessAllowed ? 'block' : 'none';\n",
              "\n",
              "      async function convertToInteractive(key) {\n",
              "        const element = document.querySelector('#df-b439c6d1-ffd6-412c-be28-b6a5ded15d74');\n",
              "        const dataTable =\n",
              "          await google.colab.kernel.invokeFunction('convertToInteractive',\n",
              "                                                    [key], {});\n",
              "        if (!dataTable) return;\n",
              "\n",
              "        const docLinkHtml = 'Like what you see? Visit the ' +\n",
              "          '<a target=\"_blank\" href=https://colab.research.google.com/notebooks/data_table.ipynb>data table notebook</a>'\n",
              "          + ' to learn more about interactive tables.';\n",
              "        element.innerHTML = '';\n",
              "        dataTable['output_type'] = 'display_data';\n",
              "        await google.colab.output.renderOutput(dataTable, element);\n",
              "        const docLink = document.createElement('div');\n",
              "        docLink.innerHTML = docLinkHtml;\n",
              "        element.appendChild(docLink);\n",
              "      }\n",
              "    </script>\n",
              "  </div>\n",
              "\n",
              "    </div>\n",
              "  </div>\n"
            ]
          },
          "metadata": {},
          "execution_count": 12
        }
      ]
    },
    {
      "cell_type": "markdown",
      "source": [
        "# Last exersice:\n",
        "Print category with reviews with lowest  Sentiment_Polarity"
      ],
      "metadata": {
        "id": "5YPWbCCkrIud"
      }
    },
    {
      "cell_type": "code",
      "source": [],
      "metadata": {
        "id": "XN2o9t9Nq2pi"
      },
      "execution_count": null,
      "outputs": []
    },
    {
      "cell_type": "markdown",
      "source": [
        "## Exercises for profi\n",
        "\n",
        "\n",
        "1.   Transform number of Installs into number\n",
        "2.   Print appp with highest rating in the category with largest number of installs\n",
        "\n"
      ],
      "metadata": {
        "id": "HdQp_ER1G0ME"
      }
    },
    {
      "cell_type": "code",
      "source": [],
      "metadata": {
        "id": "HXQL5nNaHRic"
      },
      "execution_count": null,
      "outputs": []
    }
  ]
}